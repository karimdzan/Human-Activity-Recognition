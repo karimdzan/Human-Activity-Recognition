{
  "nbformat": 4,
  "nbformat_minor": 0,
  "metadata": {
    "colab": {
      "name": "Human-Activity-Recognition",
      "provenance": []
    },
    "kernelspec": {
      "name": "python3",
      "display_name": "Python 3"
    },
    "accelerator": "GPU"
  },
  "cells": [
    {
      "cell_type": "code",
      "metadata": {
        "id": "nSPMtFecWE19"
      },
      "source": [
        "import numpy as np\n",
        "import pandas as pd\n",
        "from numpy import loadtxt"
      ],
      "execution_count": null,
      "outputs": []
    },
    {
      "cell_type": "code",
      "metadata": {
        "colab": {
          "base_uri": "https://localhost:8080/"
        },
        "id": "4zmbhcNrkOKH",
        "outputId": "99989811-4529-46b8-d9da-c2ab7320957b"
      },
      "source": [
        "from google.colab import drive\n",
        "drive.mount('/content/drive')"
      ],
      "execution_count": null,
      "outputs": [
        {
          "output_type": "stream",
          "text": [
            "Mounted at /content/drive\n"
          ],
          "name": "stdout"
        }
      ]
    },
    {
      "cell_type": "code",
      "metadata": {
        "id": "NMVaSVAqjPU_"
      },
      "source": [
        "X_train = loadtxt('./drive/MyDrive/Colab Notebooks/X_train.csv').reshape(65628, 128, 3)\n",
        "y_train = loadtxt('./drive/MyDrive/Colab Notebooks/y_train.csv')"
      ],
      "execution_count": null,
      "outputs": []
    },
    {
      "cell_type": "code",
      "metadata": {
        "id": "H_GtW9kLxYmz"
      },
      "source": [
        ""
      ],
      "execution_count": null,
      "outputs": []
    },
    {
      "cell_type": "code",
      "metadata": {
        "colab": {
          "base_uri": "https://localhost:8080/"
        },
        "id": "Ld7Zk3yHlWfm",
        "outputId": "00fd5d1d-911f-4f66-8fac-b7e40329bd82"
      },
      "source": [
        "y_train.shape"
      ],
      "execution_count": null,
      "outputs": [
        {
          "output_type": "execute_result",
          "data": {
            "text/plain": [
              "(65628, 9)"
            ]
          },
          "metadata": {
            "tags": []
          },
          "execution_count": 572
        }
      ]
    },
    {
      "cell_type": "code",
      "metadata": {
        "id": "49ttIq-3l7lh"
      },
      "source": [
        "from tensorflow.keras.utils import to_categorical\n",
        "\n",
        "y_train_old = y_train\n",
        "\n",
        "y_train = to_categorical(y_train)"
      ],
      "execution_count": null,
      "outputs": []
    },
    {
      "cell_type": "code",
      "metadata": {
        "colab": {
          "base_uri": "https://localhost:8080/"
        },
        "id": "P--N39FqmT4F",
        "outputId": "2087aef4-1d6b-46d3-986c-2a86aa66d9d2"
      },
      "source": [
        "unique, counts = np.unique(y_train_old, return_counts=True)\n",
        "dict(zip(unique, counts))"
      ],
      "execution_count": null,
      "outputs": [
        {
          "output_type": "execute_result",
          "data": {
            "text/plain": [
              "{0.0: 14072,\n",
              " 1.0: 21267,\n",
              " 2.0: 13310,\n",
              " 3.0: 4333,\n",
              " 4.0: 9256,\n",
              " 5.0: 1732,\n",
              " 6.0: 618,\n",
              " 7.0: 881,\n",
              " 8.0: 159}"
            ]
          },
          "metadata": {
            "tags": []
          },
          "execution_count": 5
        }
      ]
    },
    {
      "cell_type": "code",
      "metadata": {
        "id": "PtRhdmx7sejy"
      },
      "source": [
        "X_train_ultimate = np.concatenate((X_train[y_train_old == 0][:4333, :], X_train[y_train_old == 1][:4333, :]), axis = 0)\n",
        "X_train_ultimate = np.concatenate((X_train_ultimate, X_train[y_train_old == 2][:4333, :]), axis = 0)\n",
        "X_train_ultimate = np.concatenate((X_train_ultimate, X_train[y_train_old == 3][:4333, :]), axis = 0)\n",
        "X_train_ultimate = np.concatenate((X_train_ultimate, X_train[y_train_old == 4][:4333, :]), axis = 0)\n",
        "X_train_ultimate = np.concatenate((X_train_ultimate, X_train[y_train_old == 5][:600, :]), axis = 0)\n",
        "X_train_ultimate = np.concatenate((X_train_ultimate, X_train[y_train_old == 6][:600, :]), axis = 0)\n",
        "X_train_ultimate = np.concatenate((X_train_ultimate, X_train[y_train_old == 7][:600, :]), axis = 0)\n",
        "X_train_ultimate = np.concatenate((X_train_ultimate, X_train[y_train_old == 8][:100, :]), axis = 0)"
      ],
      "execution_count": null,
      "outputs": []
    },
    {
      "cell_type": "code",
      "metadata": {
        "id": "_LgRHGdaxA5B"
      },
      "source": [
        "y_train_ultimate = np.concatenate((y_train[y_train_old == 0][:4333, :], y_train[y_train_old == 1][:4333, :]), axis = 0)\n",
        "y_train_ultimate = np.concatenate((y_train_ultimate, y_train[y_train_old == 2][:4333, :]), axis = 0)\n",
        "y_train_ultimate = np.concatenate((y_train_ultimate, y_train[y_train_old == 3][:4333, :]), axis = 0)\n",
        "y_train_ultimate = np.concatenate((y_train_ultimate, y_train[y_train_old == 4][:4333, :]), axis = 0)\n",
        "y_train_ultimate = np.concatenate((y_train_ultimate, y_train[y_train_old == 5][:600, :]), axis = 0)\n",
        "y_train_ultimate = np.concatenate((y_train_ultimate, y_train[y_train_old == 6][:600, :]), axis = 0)\n",
        "y_train_ultimate = np.concatenate((y_train_ultimate, y_train[y_train_old == 7][:600, :]), axis = 0)\n",
        "y_train_ultimate = np.concatenate((y_train_ultimate, y_train[y_train_old == 8][:100, :]), axis = 0)"
      ],
      "execution_count": null,
      "outputs": []
    },
    {
      "cell_type": "code",
      "metadata": {
        "id": "j9NQ3imJx7V9"
      },
      "source": [
        "from scipy.signal import find_peaks\n",
        "from scipy import stats"
      ],
      "execution_count": null,
      "outputs": []
    },
    {
      "cell_type": "code",
      "metadata": {
        "id": "fpz_guVxxkix"
      },
      "source": [
        "X_train = pd.DataFrame()"
      ],
      "execution_count": null,
      "outputs": []
    },
    {
      "cell_type": "code",
      "metadata": {
        "id": "sVXRH9vsy_RR"
      },
      "source": [
        "# mean\n",
        "X_train['x_mean'] = pd.Series([X_train_ultimate[i][:, 0] for i in range(X_train_ultimate.shape[0])]).apply(lambda x: x.mean())\n",
        "X_train['y_mean'] = pd.Series([X_train_ultimate[i][:, 1] for i in range(X_train_ultimate.shape[0])]).apply(lambda x: x.mean())\n",
        "X_train['z_mean'] = pd.Series([X_train_ultimate[i][:, 2] for i in range(X_train_ultimate.shape[0])]).apply(lambda x: x.mean())\n",
        "\n",
        "# std dev\n",
        "X_train['x_std'] = pd.Series([X_train_ultimate[i][:, 0] for i in range(X_train_ultimate.shape[0])]).apply(lambda x: x.std())\n",
        "X_train['y_std'] = pd.Series([X_train_ultimate[i][:, 1] for i in range(X_train_ultimate.shape[0])]).apply(lambda x: x.std())\n",
        "X_train['z_std'] = pd.Series([X_train_ultimate[i][:, 2] for i in range(X_train_ultimate.shape[0])]).apply(lambda x: x.std())\n",
        "\n",
        "# avg absolute diff\n",
        "X_train['x_aad'] = pd.Series([X_train_ultimate[i][:, 0] for i in range(X_train_ultimate.shape[0])]).apply(lambda x: np.mean(np.absolute(x - np.mean(x))))\n",
        "X_train['y_aad'] = pd.Series([X_train_ultimate[i][:, 1] for i in range(X_train_ultimate.shape[0])]).apply(lambda x: np.mean(np.absolute(x - np.mean(x))))\n",
        "X_train['z_aad'] = pd.Series([X_train_ultimate[i][:, 2] for i in range(X_train_ultimate.shape[0])]).apply(lambda x: np.mean(np.absolute(x - np.mean(x))))\n",
        "\n",
        "# min\n",
        "X_train['x_min'] = pd.Series([X_train_ultimate[i][:, 0] for i in range(X_train_ultimate.shape[0])]).apply(lambda x: x.min())\n",
        "X_train['y_min'] = pd.Series([X_train_ultimate[i][:, 1] for i in range(X_train_ultimate.shape[0])]).apply(lambda x: x.min())\n",
        "X_train['z_min'] = pd.Series([X_train_ultimate[i][:, 2] for i in range(X_train_ultimate.shape[0])]).apply(lambda x: x.min())\n",
        "\n",
        "# max\n",
        "X_train['x_max'] = pd.Series([X_train_ultimate[i][:, 0] for i in range(X_train_ultimate.shape[0])]).apply(lambda x: x.max())\n",
        "X_train['y_max'] = pd.Series([X_train_ultimate[i][:, 1] for i in range(X_train_ultimate.shape[0])]).apply(lambda x: x.max())\n",
        "X_train['z_max'] = pd.Series([X_train_ultimate[i][:, 2] for i in range(X_train_ultimate.shape[0])]).apply(lambda x: x.max())\n",
        "\n",
        "# max-min diff\n",
        "X_train['x_maxmin_diff'] = X_train['x_max'] - X_train['x_min']\n",
        "X_train['y_maxmin_diff'] = X_train['y_max'] - X_train['y_min']\n",
        "X_train['z_maxmin_diff'] = X_train['z_max'] - X_train['z_min']\n",
        "\n",
        "# median\n",
        "X_train['x_median'] = pd.Series([X_train_ultimate[i][:, 0] for i in range(X_train_ultimate.shape[0])]).apply(lambda x: np.median(x))\n",
        "X_train['y_median'] = pd.Series([X_train_ultimate[i][:, 1] for i in range(X_train_ultimate.shape[0])]).apply(lambda x: np.median(x))\n",
        "X_train['z_median'] = pd.Series([X_train_ultimate[i][:, 2] for i in range(X_train_ultimate.shape[0])]).apply(lambda x: np.median(x))\n",
        "\n",
        "# median abs dev \n",
        "X_train['x_mad'] = pd.Series([X_train_ultimate[i][:, 0] for i in range(X_train_ultimate.shape[0])]).apply(lambda x: np.median(np.absolute(x - np.median(x))))\n",
        "X_train['y_mad'] = pd.Series([X_train_ultimate[i][:, 1] for i in range(X_train_ultimate.shape[0])]).apply(lambda x: np.median(np.absolute(x - np.median(x))))\n",
        "X_train['z_mad'] = pd.Series([X_train_ultimate[i][:, 2] for i in range(X_train_ultimate.shape[0])]).apply(lambda x: np.median(np.absolute(x - np.median(x))))\n",
        "\n",
        "# interquartile range\n",
        "X_train['x_IQR'] = pd.Series([X_train_ultimate[i][:, 0] for i in range(X_train_ultimate.shape[0])]).apply(lambda x: np.percentile(x, 75) - np.percentile(x, 25))\n",
        "X_train['y_IQR'] = pd.Series([X_train_ultimate[i][:, 1] for i in range(X_train_ultimate.shape[0])]).apply(lambda x: np.percentile(x, 75) - np.percentile(x, 25))\n",
        "X_train['z_IQR'] = pd.Series([X_train_ultimate[i][:, 2] for i in range(X_train_ultimate.shape[0])]).apply(lambda x: np.percentile(x, 75) - np.percentile(x, 25))\n",
        "\n",
        "# negtive count\n",
        "X_train['x_neg_count'] = pd.Series([X_train_ultimate[i][:, 0] for i in range(X_train_ultimate.shape[0])]).apply(lambda x: np.sum(x < 0))\n",
        "X_train['y_neg_count'] = pd.Series([X_train_ultimate[i][:, 1] for i in range(X_train_ultimate.shape[0])]).apply(lambda x: np.sum(x < 0))\n",
        "X_train['z_neg_count'] = pd.Series([X_train_ultimate[i][:, 2] for i in range(X_train_ultimate.shape[0])]).apply(lambda x: np.sum(x < 0))\n",
        "\n",
        "# positive count\n",
        "X_train['x_pos_count'] = pd.Series([X_train_ultimate[i][:, 0] for i in range(X_train_ultimate.shape[0])]).apply(lambda x: np.sum(x > 0))\n",
        "X_train['y_pos_count'] = pd.Series([X_train_ultimate[i][:, 1] for i in range(X_train_ultimate.shape[0])]).apply(lambda x: np.sum(x > 0))\n",
        "X_train['z_pos_count'] = pd.Series([X_train_ultimate[i][:, 2] for i in range(X_train_ultimate.shape[0])]).apply(lambda x: np.sum(x > 0))\n",
        "\n",
        "# values above mean\n",
        "X_train['x_above_mean'] = pd.Series([X_train_ultimate[i][:, 0] for i in range(X_train_ultimate.shape[0])]).apply(lambda x: np.sum(x > x.mean()))\n",
        "X_train['y_above_mean'] = pd.Series([X_train_ultimate[i][:, 1] for i in range(X_train_ultimate.shape[0])]).apply(lambda x: np.sum(x > x.mean()))\n",
        "X_train['z_above_mean'] = pd.Series([X_train_ultimate[i][:, 2] for i in range(X_train_ultimate.shape[0])]).apply(lambda x: np.sum(x > x.mean()))\n",
        "\n",
        "# number of peaks\n",
        "X_train['x_peak_count'] = pd.Series([X_train_ultimate[i][:, 0] for i in range(X_train_ultimate.shape[0])]).apply(lambda x: len(find_peaks(x)[0]))\n",
        "X_train['y_peak_count'] = pd.Series([X_train_ultimate[i][:, 1] for i in range(X_train_ultimate.shape[0])]).apply(lambda x: len(find_peaks(x)[0]))\n",
        "X_train['z_peak_count'] = pd.Series([X_train_ultimate[i][:, 2] for i in range(X_train_ultimate.shape[0])]).apply(lambda x: len(find_peaks(x)[0]))\n",
        "\n",
        "# skewness\n",
        "X_train['x_skewness'] = pd.Series([X_train_ultimate[i][:, 0] for i in range(X_train_ultimate.shape[0])]).apply(lambda x: stats.skew(x))\n",
        "X_train['y_skewness'] = pd.Series([X_train_ultimate[i][:, 1] for i in range(X_train_ultimate.shape[0])]).apply(lambda x: stats.skew(x))\n",
        "X_train['z_skewness'] = pd.Series([X_train_ultimate[i][:, 2] for i in range(X_train_ultimate.shape[0])]).apply(lambda x: stats.skew(x))\n",
        "\n",
        "# kurtosis\n",
        "X_train['x_kurtosis'] = pd.Series([X_train_ultimate[i][:, 0] for i in range(X_train_ultimate.shape[0])]).apply(lambda x: stats.kurtosis(x))\n",
        "X_train['y_kurtosis'] = pd.Series([X_train_ultimate[i][:, 1] for i in range(X_train_ultimate.shape[0])]).apply(lambda x: stats.kurtosis(x))\n",
        "X_train['z_kurtosis'] = pd.Series([X_train_ultimate[i][:, 2] for i in range(X_train_ultimate.shape[0])]).apply(lambda x: stats.kurtosis(x))\n",
        "\n",
        "# energy\n",
        "X_train['x_energy'] = pd.Series([X_train_ultimate[i][:, 0] for i in range(X_train_ultimate.shape[0])]).apply(lambda x: np.sum(x**2)/100)\n",
        "X_train['y_energy'] = pd.Series([X_train_ultimate[i][:, 1] for i in range(X_train_ultimate.shape[0])]).apply(lambda x: np.sum(x**2)/100)\n",
        "X_train['z_energy'] = pd.Series([X_train_ultimate[i][:, 2] for i in range(X_train_ultimate.shape[0])]).apply(lambda x: np.sum(x**2/100))\n",
        "\n",
        "# avg resultant\n",
        "X_train['avg_result_accl'] = [i.mean() for i in ((pd.Series([X_train_ultimate[i][:, 0] for i in range(X_train_ultimate.shape[0])])**2 + pd.Series([X_train_ultimate[i][:, 1] for i in range(X_train_ultimate.shape[0])])**2 + pd.Series([X_train_ultimate[i][:, 2] for i in range(X_train_ultimate.shape[0])])**2)**0.5)]\n",
        "\n",
        "# signal magnitude area\n",
        "X_train['sma'] =    pd.Series([X_train_ultimate[i][:, 0] for i in range(X_train_ultimate.shape[0])]).apply(lambda x: np.sum(abs(x)/100)) + pd.Series([X_train_ultimate[i][:, 1] for i in range(X_train_ultimate.shape[0])]).apply(lambda x: np.sum(abs(x)/100)) \\\n",
        "                  + pd.Series([X_train_ultimate[i][:, 2] for i in range(X_train_ultimate.shape[0])]).apply(lambda x: np.sum(abs(x)/100))\n",
        "\n",
        "\n",
        "x_list_fft = pd.Series([X_train_ultimate[i][:, 0] for i in range(X_train_ultimate.shape[0])]).apply(lambda x: np.abs(np.fft.fft(x))[1:51])\n",
        "y_list_fft = pd.Series([X_train_ultimate[i][:, 1] for i in range(X_train_ultimate.shape[0])]).apply(lambda x: np.abs(np.fft.fft(x))[1:51])\n",
        "z_list_fft = pd.Series([X_train_ultimate[i][:, 2] for i in range(X_train_ultimate.shape[0])]).apply(lambda x: np.abs(np.fft.fft(x))[1:51])\n",
        "\n",
        "# Statistical Features on raw x, y and z in frequency domain\n",
        "# FFT mean\n",
        "X_train['x_mean_fft'] = pd.Series(x_list_fft).apply(lambda x: x.mean())\n",
        "X_train['y_mean_fft'] = pd.Series(y_list_fft).apply(lambda x: x.mean())\n",
        "X_train['z_mean_fft'] = pd.Series(z_list_fft).apply(lambda x: x.mean())\n",
        "\n",
        "# FFT std dev\n",
        "X_train['x_std_fft'] = pd.Series(x_list_fft).apply(lambda x: x.std())\n",
        "X_train['y_std_fft'] = pd.Series(y_list_fft).apply(lambda x: x.std())\n",
        "X_train['z_std_fft'] = pd.Series(z_list_fft).apply(lambda x: x.std())\n",
        "\n",
        "# FFT avg absolute diff\n",
        "X_train['x_aad_fft'] = pd.Series(x_list_fft).apply(lambda x: np.mean(np.absolute(x - np.mean(x))))\n",
        "X_train['y_aad_fft'] = pd.Series(y_list_fft).apply(lambda x: np.mean(np.absolute(x - np.mean(x))))\n",
        "X_train['z_aad_fft'] = pd.Series(z_list_fft).apply(lambda x: np.mean(np.absolute(x - np.mean(x))))\n",
        "\n",
        "# FFT min\n",
        "X_train['x_min_fft'] = pd.Series(x_list_fft).apply(lambda x: x.min())\n",
        "X_train['y_min_fft'] = pd.Series(y_list_fft).apply(lambda x: x.min())\n",
        "X_train['z_min_fft'] = pd.Series(z_list_fft).apply(lambda x: x.min())\n",
        "\n",
        "# FFT max\n",
        "X_train['x_max_fft'] = pd.Series(x_list_fft).apply(lambda x: x.max())\n",
        "X_train['y_max_fft'] = pd.Series(y_list_fft).apply(lambda x: x.max())\n",
        "X_train['z_max_fft'] = pd.Series(z_list_fft).apply(lambda x: x.max())\n",
        "\n",
        "# FFT max-min diff\n",
        "X_train['x_maxmin_diff_fft'] = X_train['x_max_fft'] - X_train['x_min_fft']\n",
        "X_train['y_maxmin_diff_fft'] = X_train['y_max_fft'] - X_train['y_min_fft']\n",
        "X_train['z_maxmin_diff_fft'] = X_train['z_max_fft'] - X_train['z_min_fft']\n",
        "\n",
        "# FFT median\n",
        "X_train['x_median_fft'] = pd.Series(x_list_fft).apply(lambda x: np.median(x))\n",
        "X_train['y_median_fft'] = pd.Series(y_list_fft).apply(lambda x: np.median(x))\n",
        "X_train['z_median_fft'] = pd.Series(z_list_fft).apply(lambda x: np.median(x))\n",
        "\n",
        "# FFT median abs dev \n",
        "X_train['x_mad_fft'] = pd.Series(x_list_fft).apply(lambda x: np.median(np.absolute(x - np.median(x))))\n",
        "X_train['y_mad_fft'] = pd.Series(y_list_fft).apply(lambda x: np.median(np.absolute(x - np.median(x))))\n",
        "X_train['z_mad_fft'] = pd.Series(z_list_fft).apply(lambda x: np.median(np.absolute(x - np.median(x))))\n",
        "\n",
        "# FFT Interquartile range\n",
        "X_train['x_IQR_fft'] = pd.Series(x_list_fft).apply(lambda x: np.percentile(x, 75) - np.percentile(x, 25))\n",
        "X_train['y_IQR_fft'] = pd.Series(y_list_fft).apply(lambda x: np.percentile(x, 75) - np.percentile(x, 25))\n",
        "X_train['z_IQR_fft'] = pd.Series(z_list_fft).apply(lambda x: np.percentile(x, 75) - np.percentile(x, 25))\n",
        "\n",
        "# FFT values above mean\n",
        "X_train['x_above_mean_fft'] = pd.Series(x_list_fft).apply(lambda x: np.sum(x > x.mean()))\n",
        "X_train['y_above_mean_fft'] = pd.Series(y_list_fft).apply(lambda x: np.sum(x > x.mean()))\n",
        "X_train['z_above_mean_fft'] = pd.Series(z_list_fft).apply(lambda x: np.sum(x > x.mean()))\n",
        "\n",
        "# FFT number of peaks\n",
        "X_train['x_peak_count_fft'] = pd.Series(x_list_fft).apply(lambda x: len(find_peaks(x)[0]))\n",
        "X_train['y_peak_count_fft'] = pd.Series(y_list_fft).apply(lambda x: len(find_peaks(x)[0]))\n",
        "X_train['z_peak_count_fft'] = pd.Series(z_list_fft).apply(lambda x: len(find_peaks(x)[0]))\n",
        "\n",
        "# FFT skewness\n",
        "X_train['x_skewness_fft'] = pd.Series(x_list_fft).apply(lambda x: stats.skew(x))\n",
        "X_train['y_skewness_fft'] = pd.Series(y_list_fft).apply(lambda x: stats.skew(x))\n",
        "X_train['z_skewness_fft'] = pd.Series(z_list_fft).apply(lambda x: stats.skew(x))\n",
        "\n",
        "# FFT kurtosis\n",
        "X_train['x_kurtosis_fft'] = pd.Series(x_list_fft).apply(lambda x: stats.kurtosis(x))\n",
        "X_train['y_kurtosis_fft'] = pd.Series(y_list_fft).apply(lambda x: stats.kurtosis(x))\n",
        "X_train['z_kurtosis_fft'] = pd.Series(z_list_fft).apply(lambda x: stats.kurtosis(x))\n",
        "\n",
        "# FFT energy\n",
        "X_train['x_energy_fft'] = pd.Series(x_list_fft).apply(lambda x: np.sum(x**2)/50)\n",
        "X_train['y_energy_fft'] = pd.Series(y_list_fft).apply(lambda x: np.sum(x**2)/50)\n",
        "X_train['z_energy_fft'] = pd.Series(z_list_fft).apply(lambda x: np.sum(x**2/50))\n",
        "\n",
        "# FFT avg resultant\n",
        "X_train['avg_result_accl_fft'] = [i.mean() for i in ((pd.Series(x_list_fft)**2 + pd.Series(y_list_fft)**2 + pd.Series(z_list_fft)**2)**0.5)]\n",
        "\n",
        "# FFT Signal magnitude area\n",
        "X_train['sma_fft'] = pd.Series(x_list_fft).apply(lambda x: np.sum(abs(x)/50)) + pd.Series(y_list_fft).apply(lambda x: np.sum(abs(x)/50)) \\\n",
        "                      + pd.Series(z_list_fft).apply(lambda x: np.sum(abs(x)/50))\n",
        "\n",
        "# # index of max value in time domain\n",
        "# X_train['x_argmax'] = pd.Series([X_train_ultimate[i][:, 0] for i in range(X_train_ultimate.shape[0])]).apply(lambda x: np.argmax(x))\n",
        "# X_train['y_argmax'] = pd.Series([X_train_ultimate[i][:, 1] for i in range(X_train_ultimate.shape[0])]).apply(lambda x: np.argmax(x))\n",
        "# X_train['z_argmax'] = pd.Series([X_train_ultimate[i][:, 2] for i in range(X_train_ultimate.shape[0])]).apply(lambda x: np.argmax(x))\n",
        "\n",
        "# # index of min value in time domain\n",
        "# X_train['x_argmin'] = pd.Series([X_train_ultimate[i][:, 0] for i in range(X_train_ultimate.shape[0])]).apply(lambda x: np.argmin(x))\n",
        "# X_train['y_argmin'] = pd.Series([X_train_ultimate[i][:, 1] for i in range(X_train_ultimate.shape[0])]).apply(lambda x: np.argmin(x))\n",
        "# X_train['z_argmin'] = pd.Series([X_train_ultimate[i][:, 2] for i in range(X_train_ultimate.shape[0])]).apply(lambda x: np.argmin(x))\n",
        "\n",
        "# # absolute difference between above indices\n",
        "# X_train['x_arg_diff'] = abs(X_train['x_argmax'] - X_train['x_argmin'])\n",
        "# X_train['y_arg_diff'] = abs(X_train['y_argmax'] - X_train['y_argmin'])\n",
        "# X_train['z_arg_diff'] = abs(X_train['z_argmax'] - X_train['z_argmin'])\n",
        "\n",
        "# # index of max value in frequency domain\n",
        "# X_train['x_argmax_fft'] = pd.Series(x_list_fft).apply(lambda x: np.argmax(np.abs(np.fft.fft(x))[1:51]))\n",
        "# X_train['y_argmax_fft'] = pd.Series(y_list_fft).apply(lambda x: np.argmax(np.abs(np.fft.fft(x))[1:51]))\n",
        "# X_train['z_argmax_fft'] = pd.Series(z_list_fft).apply(lambda x: np.argmax(np.abs(np.fft.fft(x))[1:51]))\n",
        "\n",
        "# # index of min value in frequency domain\n",
        "# X_train['x_argmin_fft'] = pd.Series(x_list_fft).apply(lambda x: np.argmin(np.abs(np.fft.fft(x))[1:51]))\n",
        "# X_train['y_argmin_fft'] = pd.Series(y_list_fft).apply(lambda x: np.argmin(np.abs(np.fft.fft(x))[1:51]))\n",
        "# X_train['z_argmin_fft'] = pd.Series(z_list_fft).apply(lambda x: np.argmin(np.abs(np.fft.fft(x))[1:51]))\n",
        "\n",
        "# # absolute difference between above indices\n",
        "# X_train['x_arg_diff_fft'] = abs(X_train['x_argmax_fft'] - X_train['x_argmin_fft'])\n",
        "# X_train['y_arg_diff_fft'] = abs(X_train['y_argmax_fft'] - X_train['y_argmin_fft'])\n",
        "# X_train['z_arg_diff_fft'] = abs(X_train['z_argmax_fft'] - X_train['z_argmin_fft'])"
      ],
      "execution_count": null,
      "outputs": []
    },
    {
      "cell_type": "code",
      "metadata": {
        "id": "wEgMvXd_ppJq"
      },
      "source": [
        ""
      ],
      "execution_count": null,
      "outputs": []
    },
    {
      "cell_type": "code",
      "metadata": {
        "id": "JrYYIidPpHMr"
      },
      "source": [
        ""
      ],
      "execution_count": null,
      "outputs": []
    },
    {
      "cell_type": "code",
      "metadata": {
        "id": "vOua2KfE-mm0"
      },
      "source": [
        "y_df = pd.DataFrame(y_train_ultimate)"
      ],
      "execution_count": null,
      "outputs": []
    },
    {
      "cell_type": "code",
      "metadata": {
        "id": "oAK0v1aannho"
      },
      "source": [
        "new_df = X_train.join(y_df)\n",
        "new_df = new_df.dropna()"
      ],
      "execution_count": null,
      "outputs": []
    },
    {
      "cell_type": "code",
      "metadata": {
        "colab": {
          "base_uri": "https://localhost:8080/",
          "height": 252
        },
        "id": "dO61psDA-J8D",
        "outputId": "ff17d640-6dc1-46e0-fe38-b08b1a213daa"
      },
      "source": [
        "new_df.head()"
      ],
      "execution_count": null,
      "outputs": [
        {
          "output_type": "execute_result",
          "data": {
            "text/html": [
              "<div>\n",
              "<style scoped>\n",
              "    .dataframe tbody tr th:only-of-type {\n",
              "        vertical-align: middle;\n",
              "    }\n",
              "\n",
              "    .dataframe tbody tr th {\n",
              "        vertical-align: top;\n",
              "    }\n",
              "\n",
              "    .dataframe thead th {\n",
              "        text-align: right;\n",
              "    }\n",
              "</style>\n",
              "<table border=\"1\" class=\"dataframe\">\n",
              "  <thead>\n",
              "    <tr style=\"text-align: right;\">\n",
              "      <th></th>\n",
              "      <th>x_mean</th>\n",
              "      <th>y_mean</th>\n",
              "      <th>z_mean</th>\n",
              "      <th>x_std</th>\n",
              "      <th>y_std</th>\n",
              "      <th>z_std</th>\n",
              "      <th>x_aad</th>\n",
              "      <th>y_aad</th>\n",
              "      <th>z_aad</th>\n",
              "      <th>x_min</th>\n",
              "      <th>y_min</th>\n",
              "      <th>z_min</th>\n",
              "      <th>x_max</th>\n",
              "      <th>y_max</th>\n",
              "      <th>z_max</th>\n",
              "      <th>x_maxmin_diff</th>\n",
              "      <th>y_maxmin_diff</th>\n",
              "      <th>z_maxmin_diff</th>\n",
              "      <th>x_median</th>\n",
              "      <th>y_median</th>\n",
              "      <th>z_median</th>\n",
              "      <th>x_mad</th>\n",
              "      <th>y_mad</th>\n",
              "      <th>z_mad</th>\n",
              "      <th>x_IQR</th>\n",
              "      <th>y_IQR</th>\n",
              "      <th>z_IQR</th>\n",
              "      <th>x_neg_count</th>\n",
              "      <th>y_neg_count</th>\n",
              "      <th>z_neg_count</th>\n",
              "      <th>x_pos_count</th>\n",
              "      <th>y_pos_count</th>\n",
              "      <th>z_pos_count</th>\n",
              "      <th>x_above_mean</th>\n",
              "      <th>y_above_mean</th>\n",
              "      <th>z_above_mean</th>\n",
              "      <th>x_peak_count</th>\n",
              "      <th>y_peak_count</th>\n",
              "      <th>z_peak_count</th>\n",
              "      <th>x_skewness</th>\n",
              "      <th>...</th>\n",
              "      <th>y_max_fft</th>\n",
              "      <th>z_max_fft</th>\n",
              "      <th>x_maxmin_diff_fft</th>\n",
              "      <th>y_maxmin_diff_fft</th>\n",
              "      <th>z_maxmin_diff_fft</th>\n",
              "      <th>x_median_fft</th>\n",
              "      <th>y_median_fft</th>\n",
              "      <th>z_median_fft</th>\n",
              "      <th>x_mad_fft</th>\n",
              "      <th>y_mad_fft</th>\n",
              "      <th>z_mad_fft</th>\n",
              "      <th>x_IQR_fft</th>\n",
              "      <th>y_IQR_fft</th>\n",
              "      <th>z_IQR_fft</th>\n",
              "      <th>x_above_mean_fft</th>\n",
              "      <th>y_above_mean_fft</th>\n",
              "      <th>z_above_mean_fft</th>\n",
              "      <th>x_peak_count_fft</th>\n",
              "      <th>y_peak_count_fft</th>\n",
              "      <th>z_peak_count_fft</th>\n",
              "      <th>x_skewness_fft</th>\n",
              "      <th>y_skewness_fft</th>\n",
              "      <th>z_skewness_fft</th>\n",
              "      <th>x_kurtosis_fft</th>\n",
              "      <th>y_kurtosis_fft</th>\n",
              "      <th>z_kurtosis_fft</th>\n",
              "      <th>x_energy_fft</th>\n",
              "      <th>y_energy_fft</th>\n",
              "      <th>z_energy_fft</th>\n",
              "      <th>avg_result_accl_fft</th>\n",
              "      <th>sma_fft</th>\n",
              "      <th>0</th>\n",
              "      <th>1</th>\n",
              "      <th>2</th>\n",
              "      <th>3</th>\n",
              "      <th>4</th>\n",
              "      <th>5</th>\n",
              "      <th>6</th>\n",
              "      <th>7</th>\n",
              "      <th>8</th>\n",
              "    </tr>\n",
              "  </thead>\n",
              "  <tbody>\n",
              "    <tr>\n",
              "      <th>0</th>\n",
              "      <td>0.118409</td>\n",
              "      <td>-0.988244</td>\n",
              "      <td>0.139928</td>\n",
              "      <td>0.006345</td>\n",
              "      <td>0.001926</td>\n",
              "      <td>0.006505</td>\n",
              "      <td>0.005792</td>\n",
              "      <td>0.001587</td>\n",
              "      <td>0.005337</td>\n",
              "      <td>0.1074</td>\n",
              "      <td>-0.9921</td>\n",
              "      <td>0.1249</td>\n",
              "      <td>0.1302</td>\n",
              "      <td>-0.9827</td>\n",
              "      <td>0.1518</td>\n",
              "      <td>0.0228</td>\n",
              "      <td>0.0094</td>\n",
              "      <td>0.0269</td>\n",
              "      <td>0.11750</td>\n",
              "      <td>-0.98870</td>\n",
              "      <td>0.14140</td>\n",
              "      <td>0.00600</td>\n",
              "      <td>0.00110</td>\n",
              "      <td>0.00420</td>\n",
              "      <td>0.011600</td>\n",
              "      <td>0.002800</td>\n",
              "      <td>0.008250</td>\n",
              "      <td>0</td>\n",
              "      <td>128</td>\n",
              "      <td>0</td>\n",
              "      <td>128</td>\n",
              "      <td>0</td>\n",
              "      <td>128</td>\n",
              "      <td>61</td>\n",
              "      <td>58</td>\n",
              "      <td>72</td>\n",
              "      <td>38</td>\n",
              "      <td>40</td>\n",
              "      <td>34</td>\n",
              "      <td>0.070731</td>\n",
              "      <td>...</td>\n",
              "      <td>0.098676</td>\n",
              "      <td>0.395442</td>\n",
              "      <td>0.444614</td>\n",
              "      <td>0.095621</td>\n",
              "      <td>0.394820</td>\n",
              "      <td>0.018955</td>\n",
              "      <td>0.012609</td>\n",
              "      <td>0.013065</td>\n",
              "      <td>0.008504</td>\n",
              "      <td>0.006232</td>\n",
              "      <td>0.006051</td>\n",
              "      <td>0.021179</td>\n",
              "      <td>0.012620</td>\n",
              "      <td>0.011759</td>\n",
              "      <td>8</td>\n",
              "      <td>17</td>\n",
              "      <td>7</td>\n",
              "      <td>19</td>\n",
              "      <td>16</td>\n",
              "      <td>15</td>\n",
              "      <td>4.353138</td>\n",
              "      <td>2.935569</td>\n",
              "      <td>3.704999</td>\n",
              "      <td>20.489870</td>\n",
              "      <td>10.131377</td>\n",
              "      <td>13.486312</td>\n",
              "      <td>0.006542</td>\n",
              "      <td>0.000578</td>\n",
              "      <td>0.006913</td>\n",
              "      <td>0.059987</td>\n",
              "      <td>0.091602</td>\n",
              "      <td>1.0</td>\n",
              "      <td>0.0</td>\n",
              "      <td>0.0</td>\n",
              "      <td>0.0</td>\n",
              "      <td>0.0</td>\n",
              "      <td>0.0</td>\n",
              "      <td>0.0</td>\n",
              "      <td>0.0</td>\n",
              "      <td>0.0</td>\n",
              "    </tr>\n",
              "    <tr>\n",
              "      <th>1</th>\n",
              "      <td>0.118075</td>\n",
              "      <td>-0.989130</td>\n",
              "      <td>0.135605</td>\n",
              "      <td>0.002607</td>\n",
              "      <td>0.001651</td>\n",
              "      <td>0.002528</td>\n",
              "      <td>0.002048</td>\n",
              "      <td>0.001355</td>\n",
              "      <td>0.002105</td>\n",
              "      <td>0.1122</td>\n",
              "      <td>-0.9933</td>\n",
              "      <td>0.1290</td>\n",
              "      <td>0.1263</td>\n",
              "      <td>-0.9844</td>\n",
              "      <td>0.1405</td>\n",
              "      <td>0.0141</td>\n",
              "      <td>0.0089</td>\n",
              "      <td>0.0115</td>\n",
              "      <td>0.11810</td>\n",
              "      <td>-0.98925</td>\n",
              "      <td>0.13575</td>\n",
              "      <td>0.00180</td>\n",
              "      <td>0.00125</td>\n",
              "      <td>0.00200</td>\n",
              "      <td>0.003450</td>\n",
              "      <td>0.002400</td>\n",
              "      <td>0.003950</td>\n",
              "      <td>0</td>\n",
              "      <td>128</td>\n",
              "      <td>0</td>\n",
              "      <td>128</td>\n",
              "      <td>0</td>\n",
              "      <td>128</td>\n",
              "      <td>67</td>\n",
              "      <td>61</td>\n",
              "      <td>65</td>\n",
              "      <td>41</td>\n",
              "      <td>39</td>\n",
              "      <td>40</td>\n",
              "      <td>0.245420</td>\n",
              "      <td>...</td>\n",
              "      <td>0.048769</td>\n",
              "      <td>0.193379</td>\n",
              "      <td>0.138234</td>\n",
              "      <td>0.048051</td>\n",
              "      <td>0.192291</td>\n",
              "      <td>0.015082</td>\n",
              "      <td>0.015354</td>\n",
              "      <td>0.010795</td>\n",
              "      <td>0.006083</td>\n",
              "      <td>0.006062</td>\n",
              "      <td>0.003857</td>\n",
              "      <td>0.014254</td>\n",
              "      <td>0.011781</td>\n",
              "      <td>0.007118</td>\n",
              "      <td>15</td>\n",
              "      <td>19</td>\n",
              "      <td>11</td>\n",
              "      <td>17</td>\n",
              "      <td>19</td>\n",
              "      <td>16</td>\n",
              "      <td>3.410095</td>\n",
              "      <td>1.016482</td>\n",
              "      <td>5.597737</td>\n",
              "      <td>12.815813</td>\n",
              "      <td>0.956374</td>\n",
              "      <td>32.565619</td>\n",
              "      <td>0.001046</td>\n",
              "      <td>0.000389</td>\n",
              "      <td>0.001009</td>\n",
              "      <td>0.034945</td>\n",
              "      <td>0.054707</td>\n",
              "      <td>1.0</td>\n",
              "      <td>0.0</td>\n",
              "      <td>0.0</td>\n",
              "      <td>0.0</td>\n",
              "      <td>0.0</td>\n",
              "      <td>0.0</td>\n",
              "      <td>0.0</td>\n",
              "      <td>0.0</td>\n",
              "      <td>0.0</td>\n",
              "    </tr>\n",
              "    <tr>\n",
              "      <th>2</th>\n",
              "      <td>0.120373</td>\n",
              "      <td>-0.989091</td>\n",
              "      <td>0.135140</td>\n",
              "      <td>0.004172</td>\n",
              "      <td>0.002804</td>\n",
              "      <td>0.005346</td>\n",
              "      <td>0.003577</td>\n",
              "      <td>0.002342</td>\n",
              "      <td>0.004459</td>\n",
              "      <td>0.1122</td>\n",
              "      <td>-0.9945</td>\n",
              "      <td>0.1252</td>\n",
              "      <td>0.1284</td>\n",
              "      <td>-0.9821</td>\n",
              "      <td>0.1451</td>\n",
              "      <td>0.0162</td>\n",
              "      <td>0.0124</td>\n",
              "      <td>0.0199</td>\n",
              "      <td>0.12045</td>\n",
              "      <td>-0.98970</td>\n",
              "      <td>0.13480</td>\n",
              "      <td>0.00340</td>\n",
              "      <td>0.00200</td>\n",
              "      <td>0.00385</td>\n",
              "      <td>0.007200</td>\n",
              "      <td>0.004100</td>\n",
              "      <td>0.007800</td>\n",
              "      <td>0</td>\n",
              "      <td>128</td>\n",
              "      <td>0</td>\n",
              "      <td>128</td>\n",
              "      <td>0</td>\n",
              "      <td>128</td>\n",
              "      <td>65</td>\n",
              "      <td>55</td>\n",
              "      <td>61</td>\n",
              "      <td>40</td>\n",
              "      <td>37</td>\n",
              "      <td>37</td>\n",
              "      <td>0.014254</td>\n",
              "      <td>...</td>\n",
              "      <td>0.196949</td>\n",
              "      <td>0.438911</td>\n",
              "      <td>0.273121</td>\n",
              "      <td>0.194160</td>\n",
              "      <td>0.436584</td>\n",
              "      <td>0.014816</td>\n",
              "      <td>0.014653</td>\n",
              "      <td>0.013241</td>\n",
              "      <td>0.005276</td>\n",
              "      <td>0.004421</td>\n",
              "      <td>0.006705</td>\n",
              "      <td>0.011672</td>\n",
              "      <td>0.009317</td>\n",
              "      <td>0.013554</td>\n",
              "      <td>9</td>\n",
              "      <td>10</td>\n",
              "      <td>10</td>\n",
              "      <td>14</td>\n",
              "      <td>15</td>\n",
              "      <td>16</td>\n",
              "      <td>4.126355</td>\n",
              "      <td>5.007992</td>\n",
              "      <td>5.824712</td>\n",
              "      <td>17.699306</td>\n",
              "      <td>26.414042</td>\n",
              "      <td>35.342106</td>\n",
              "      <td>0.002784</td>\n",
              "      <td>0.001252</td>\n",
              "      <td>0.004648</td>\n",
              "      <td>0.047510</td>\n",
              "      <td>0.076164</td>\n",
              "      <td>1.0</td>\n",
              "      <td>0.0</td>\n",
              "      <td>0.0</td>\n",
              "      <td>0.0</td>\n",
              "      <td>0.0</td>\n",
              "      <td>0.0</td>\n",
              "      <td>0.0</td>\n",
              "      <td>0.0</td>\n",
              "      <td>0.0</td>\n",
              "    </tr>\n",
              "    <tr>\n",
              "      <th>3</th>\n",
              "      <td>0.121845</td>\n",
              "      <td>-0.987952</td>\n",
              "      <td>0.135258</td>\n",
              "      <td>0.003464</td>\n",
              "      <td>0.002040</td>\n",
              "      <td>0.002985</td>\n",
              "      <td>0.002704</td>\n",
              "      <td>0.001611</td>\n",
              "      <td>0.002491</td>\n",
              "      <td>0.1136</td>\n",
              "      <td>-0.9934</td>\n",
              "      <td>0.1263</td>\n",
              "      <td>0.1310</td>\n",
              "      <td>-0.9803</td>\n",
              "      <td>0.1408</td>\n",
              "      <td>0.0174</td>\n",
              "      <td>0.0131</td>\n",
              "      <td>0.0145</td>\n",
              "      <td>0.12175</td>\n",
              "      <td>-0.98790</td>\n",
              "      <td>0.13590</td>\n",
              "      <td>0.00205</td>\n",
              "      <td>0.00145</td>\n",
              "      <td>0.00220</td>\n",
              "      <td>0.003900</td>\n",
              "      <td>0.003000</td>\n",
              "      <td>0.004300</td>\n",
              "      <td>0</td>\n",
              "      <td>128</td>\n",
              "      <td>0</td>\n",
              "      <td>128</td>\n",
              "      <td>0</td>\n",
              "      <td>128</td>\n",
              "      <td>60</td>\n",
              "      <td>65</td>\n",
              "      <td>74</td>\n",
              "      <td>37</td>\n",
              "      <td>36</td>\n",
              "      <td>36</td>\n",
              "      <td>0.479793</td>\n",
              "      <td>...</td>\n",
              "      <td>0.082943</td>\n",
              "      <td>0.146226</td>\n",
              "      <td>0.208417</td>\n",
              "      <td>0.080490</td>\n",
              "      <td>0.143441</td>\n",
              "      <td>0.017686</td>\n",
              "      <td>0.014735</td>\n",
              "      <td>0.013439</td>\n",
              "      <td>0.008006</td>\n",
              "      <td>0.007048</td>\n",
              "      <td>0.004986</td>\n",
              "      <td>0.015468</td>\n",
              "      <td>0.013056</td>\n",
              "      <td>0.012166</td>\n",
              "      <td>12</td>\n",
              "      <td>19</td>\n",
              "      <td>11</td>\n",
              "      <td>17</td>\n",
              "      <td>15</td>\n",
              "      <td>18</td>\n",
              "      <td>3.714083</td>\n",
              "      <td>2.145543</td>\n",
              "      <td>2.864975</td>\n",
              "      <td>14.578820</td>\n",
              "      <td>5.410406</td>\n",
              "      <td>7.756967</td>\n",
              "      <td>0.001918</td>\n",
              "      <td>0.000615</td>\n",
              "      <td>0.001419</td>\n",
              "      <td>0.043626</td>\n",
              "      <td>0.068970</td>\n",
              "      <td>1.0</td>\n",
              "      <td>0.0</td>\n",
              "      <td>0.0</td>\n",
              "      <td>0.0</td>\n",
              "      <td>0.0</td>\n",
              "      <td>0.0</td>\n",
              "      <td>0.0</td>\n",
              "      <td>0.0</td>\n",
              "      <td>0.0</td>\n",
              "    </tr>\n",
              "    <tr>\n",
              "      <th>4</th>\n",
              "      <td>0.124813</td>\n",
              "      <td>-0.988167</td>\n",
              "      <td>0.134734</td>\n",
              "      <td>0.003800</td>\n",
              "      <td>0.002483</td>\n",
              "      <td>0.004936</td>\n",
              "      <td>0.002970</td>\n",
              "      <td>0.002071</td>\n",
              "      <td>0.003845</td>\n",
              "      <td>0.1185</td>\n",
              "      <td>-0.9935</td>\n",
              "      <td>0.1237</td>\n",
              "      <td>0.1361</td>\n",
              "      <td>-0.9828</td>\n",
              "      <td>0.1470</td>\n",
              "      <td>0.0176</td>\n",
              "      <td>0.0107</td>\n",
              "      <td>0.0233</td>\n",
              "      <td>0.12390</td>\n",
              "      <td>-0.98820</td>\n",
              "      <td>0.13535</td>\n",
              "      <td>0.00220</td>\n",
              "      <td>0.00180</td>\n",
              "      <td>0.00270</td>\n",
              "      <td>0.004225</td>\n",
              "      <td>0.003525</td>\n",
              "      <td>0.005825</td>\n",
              "      <td>0</td>\n",
              "      <td>128</td>\n",
              "      <td>0</td>\n",
              "      <td>128</td>\n",
              "      <td>0</td>\n",
              "      <td>128</td>\n",
              "      <td>53</td>\n",
              "      <td>63</td>\n",
              "      <td>72</td>\n",
              "      <td>37</td>\n",
              "      <td>40</td>\n",
              "      <td>33</td>\n",
              "      <td>1.006617</td>\n",
              "      <td>...</td>\n",
              "      <td>0.126518</td>\n",
              "      <td>0.272669</td>\n",
              "      <td>0.203522</td>\n",
              "      <td>0.122912</td>\n",
              "      <td>0.271483</td>\n",
              "      <td>0.015544</td>\n",
              "      <td>0.015552</td>\n",
              "      <td>0.015237</td>\n",
              "      <td>0.005325</td>\n",
              "      <td>0.005895</td>\n",
              "      <td>0.007859</td>\n",
              "      <td>0.010467</td>\n",
              "      <td>0.014074</td>\n",
              "      <td>0.014461</td>\n",
              "      <td>8</td>\n",
              "      <td>15</td>\n",
              "      <td>7</td>\n",
              "      <td>16</td>\n",
              "      <td>16</td>\n",
              "      <td>13</td>\n",
              "      <td>3.570760</td>\n",
              "      <td>3.472267</td>\n",
              "      <td>3.385370</td>\n",
              "      <td>12.261109</td>\n",
              "      <td>12.499454</td>\n",
              "      <td>10.483889</td>\n",
              "      <td>0.002310</td>\n",
              "      <td>0.000965</td>\n",
              "      <td>0.003964</td>\n",
              "      <td>0.047897</td>\n",
              "      <td>0.077577</td>\n",
              "      <td>1.0</td>\n",
              "      <td>0.0</td>\n",
              "      <td>0.0</td>\n",
              "      <td>0.0</td>\n",
              "      <td>0.0</td>\n",
              "      <td>0.0</td>\n",
              "      <td>0.0</td>\n",
              "      <td>0.0</td>\n",
              "      <td>0.0</td>\n",
              "    </tr>\n",
              "  </tbody>\n",
              "</table>\n",
              "<p>5 rows × 103 columns</p>\n",
              "</div>"
            ],
            "text/plain": [
              "     x_mean    y_mean    z_mean     x_std     y_std  ...    4    5    6    7    8\n",
              "0  0.118409 -0.988244  0.139928  0.006345  0.001926  ...  0.0  0.0  0.0  0.0  0.0\n",
              "1  0.118075 -0.989130  0.135605  0.002607  0.001651  ...  0.0  0.0  0.0  0.0  0.0\n",
              "2  0.120373 -0.989091  0.135140  0.004172  0.002804  ...  0.0  0.0  0.0  0.0  0.0\n",
              "3  0.121845 -0.987952  0.135258  0.003464  0.002040  ...  0.0  0.0  0.0  0.0  0.0\n",
              "4  0.124813 -0.988167  0.134734  0.003800  0.002483  ...  0.0  0.0  0.0  0.0  0.0\n",
              "\n",
              "[5 rows x 103 columns]"
            ]
          },
          "metadata": {
            "tags": []
          },
          "execution_count": 13
        }
      ]
    },
    {
      "cell_type": "code",
      "metadata": {
        "id": "UfA7RqPC5187"
      },
      "source": [
        "y_train_ultimate_processed = new_df[[0, 1, 2, 3, 4, 5, 6, 7, 8]]"
      ],
      "execution_count": null,
      "outputs": []
    },
    {
      "cell_type": "code",
      "metadata": {
        "id": "yetDOOjDrfzJ"
      },
      "source": [
        "X_train_processed = new_df.drop([0, 1, 2, 3, 4, 5, 6, 7, 8], axis=1)"
      ],
      "execution_count": null,
      "outputs": []
    },
    {
      "cell_type": "code",
      "metadata": {
        "colab": {
          "base_uri": "https://localhost:8080/"
        },
        "id": "WZJS5kEXnhdd",
        "outputId": "b38900a2-8d8f-4a68-ea4e-ce6f07a0eb08"
      },
      "source": [
        "X_train_processed.shape"
      ],
      "execution_count": null,
      "outputs": [
        {
          "output_type": "execute_result",
          "data": {
            "text/plain": [
              "(23562, 94)"
            ]
          },
          "metadata": {
            "tags": []
          },
          "execution_count": 16
        }
      ]
    },
    {
      "cell_type": "code",
      "metadata": {
        "id": "yBdX0LSgrxlI"
      },
      "source": [
        "y_train_processed = np.array(y_train_ultimate_processed.idxmax(axis=1))"
      ],
      "execution_count": null,
      "outputs": []
    },
    {
      "cell_type": "code",
      "metadata": {
        "colab": {
          "base_uri": "https://localhost:8080/"
        },
        "id": "0SUqfftpv3A4",
        "outputId": "55c8b352-e361-4f6e-aca7-5a35b502efd4"
      },
      "source": [
        "y_train_processed"
      ],
      "execution_count": null,
      "outputs": [
        {
          "output_type": "execute_result",
          "data": {
            "text/plain": [
              "array([0, 0, 0, ..., 8, 8, 8])"
            ]
          },
          "metadata": {
            "tags": []
          },
          "execution_count": 18
        }
      ]
    },
    {
      "cell_type": "code",
      "metadata": {
        "id": "81lhsujWXH1f"
      },
      "source": [
        "from sklearn.model_selection import train_test_split"
      ],
      "execution_count": null,
      "outputs": []
    },
    {
      "cell_type": "code",
      "metadata": {
        "id": "PCpnXTdPsATa"
      },
      "source": [
        "X_train_new, X_test_new, y_train_new, y_test_new = train_test_split(X_train_processed, y_train_processed, test_size=0.20)"
      ],
      "execution_count": null,
      "outputs": []
    },
    {
      "cell_type": "code",
      "metadata": {
        "colab": {
          "base_uri": "https://localhost:8080/"
        },
        "id": "wpikj8nU95m_",
        "outputId": "bac1ada7-c783-4c61-c047-6bea0a03fe51"
      },
      "source": [
        "from sklearn.preprocessing import StandardScaler\n",
        "from sklearn.linear_model import LogisticRegression, RidgeClassifier\n",
        "from sklearn.ensemble import RandomForestClassifier\n",
        "from sklearn.metrics import accuracy_score\n",
        "from sklearn.metrics import classification_report\n",
        "from sklearn.ensemble import GradientBoostingClassifier\n",
        "\n",
        "# standardization\n",
        "scaler = StandardScaler()\n",
        "scaler.fit(X_train_new)\n",
        "X_train_data_lr = scaler.transform(X_train_new)\n",
        "X_test_data_lr = scaler.transform(X_test_new)\n",
        "# logistic regression model\n",
        "# lr = LogisticRegression(random_state = 21)\n",
        "gb = GradientBoostingClassifier(random_state = 21)\n",
        "gb.fit(X_train_data_lr, y_train_new)\n",
        "y_pred = gb.predict(X_test_data_lr)\n",
        "print(\"Accuracy:\", accuracy_score(y_test_new, y_pred))\n",
        "print(\"\\n -------------Classification Report-------------\\n\")\n",
        "print(classification_report(y_test_new, y_pred))"
      ],
      "execution_count": null,
      "outputs": [
        {
          "output_type": "stream",
          "text": [
            "Accuracy: 0.9297687248037344\n",
            "\n",
            " -------------Classification Report-------------\n",
            "\n",
            "              precision    recall  f1-score   support\n",
            "\n",
            "           0       0.99      0.97      0.98       842\n",
            "           1       0.90      0.93      0.91       889\n",
            "           2       0.96      0.94      0.95       867\n",
            "           3       0.96      0.93      0.94       851\n",
            "           4       0.85      0.88      0.87       897\n",
            "           5       0.95      0.83      0.89       125\n",
            "           6       0.99      0.98      0.99       107\n",
            "           7       0.92      0.91      0.92       120\n",
            "           8       0.94      1.00      0.97        15\n",
            "\n",
            "    accuracy                           0.93      4713\n",
            "   macro avg       0.94      0.93      0.93      4713\n",
            "weighted avg       0.93      0.93      0.93      4713\n",
            "\n"
          ],
          "name": "stdout"
        }
      ]
    },
    {
      "cell_type": "code",
      "metadata": {
        "colab": {
          "base_uri": "https://localhost:8080/"
        },
        "id": "p6hsQ_89lvgS",
        "outputId": "edf5b3f9-f056-44fa-ed2d-d1944d066f78"
      },
      "source": [
        "!pip install catboost"
      ],
      "execution_count": null,
      "outputs": [
        {
          "output_type": "stream",
          "text": [
            "Collecting catboost\n",
            "\u001b[?25l  Downloading https://files.pythonhosted.org/packages/5a/41/24e14322b9986cf72a8763e0a0a69cc256cf963cf9502c8f0044a62c1ae8/catboost-0.26-cp37-none-manylinux1_x86_64.whl (69.2MB)\n",
            "\u001b[K     |████████████████████████████████| 69.2MB 42kB/s \n",
            "\u001b[?25hRequirement already satisfied: plotly in /usr/local/lib/python3.7/dist-packages (from catboost) (4.4.1)\n",
            "Requirement already satisfied: six in /usr/local/lib/python3.7/dist-packages (from catboost) (1.15.0)\n",
            "Requirement already satisfied: graphviz in /usr/local/lib/python3.7/dist-packages (from catboost) (0.10.1)\n",
            "Requirement already satisfied: matplotlib in /usr/local/lib/python3.7/dist-packages (from catboost) (3.2.2)\n",
            "Requirement already satisfied: pandas>=0.24.0 in /usr/local/lib/python3.7/dist-packages (from catboost) (1.1.5)\n",
            "Requirement already satisfied: scipy in /usr/local/lib/python3.7/dist-packages (from catboost) (1.4.1)\n",
            "Requirement already satisfied: numpy>=1.16.0 in /usr/local/lib/python3.7/dist-packages (from catboost) (1.19.5)\n",
            "Requirement already satisfied: retrying>=1.3.3 in /usr/local/lib/python3.7/dist-packages (from plotly->catboost) (1.3.3)\n",
            "Requirement already satisfied: kiwisolver>=1.0.1 in /usr/local/lib/python3.7/dist-packages (from matplotlib->catboost) (1.3.1)\n",
            "Requirement already satisfied: pyparsing!=2.0.4,!=2.1.2,!=2.1.6,>=2.0.1 in /usr/local/lib/python3.7/dist-packages (from matplotlib->catboost) (2.4.7)\n",
            "Requirement already satisfied: python-dateutil>=2.1 in /usr/local/lib/python3.7/dist-packages (from matplotlib->catboost) (2.8.1)\n",
            "Requirement already satisfied: cycler>=0.10 in /usr/local/lib/python3.7/dist-packages (from matplotlib->catboost) (0.10.0)\n",
            "Requirement already satisfied: pytz>=2017.2 in /usr/local/lib/python3.7/dist-packages (from pandas>=0.24.0->catboost) (2018.9)\n",
            "Installing collected packages: catboost\n",
            "Successfully installed catboost-0.26\n"
          ],
          "name": "stdout"
        }
      ]
    },
    {
      "cell_type": "code",
      "metadata": {
        "id": "hJ_zlEWvEdrM"
      },
      "source": [
        "from catboost import CatBoostClassifier"
      ],
      "execution_count": null,
      "outputs": []
    },
    {
      "cell_type": "code",
      "metadata": {
        "id": "fi_A3XWfkwUW"
      },
      "source": [
        "model = CatBoostClassifier(iterations=10000,\n",
        "                         learning_rate=0.02,\n",
        "                         eval_metric='Accuracy',\n",
        "                         loss_function=\"MultiClass\",\n",
        "                         use_best_model=True,\n",
        "                         early_stopping_rounds=1000,\n",
        "                         random_strength=1,\n",
        "                         #task_type='GPU'\n",
        "                         )"
      ],
      "execution_count": null,
      "outputs": []
    },
    {
      "cell_type": "code",
      "metadata": {
        "colab": {
          "base_uri": "https://localhost:8080/"
        },
        "id": "SStx35LHp5rJ",
        "outputId": "1162d539-ad4f-4dc3-a0d5-e4141fe7f325"
      },
      "source": [
        "model.fit(\n",
        "    X_train_new, y_train_new,\n",
        "    eval_set=(X_test_new, y_test_new),\n",
        "    verbose=500\n",
        ")"
      ],
      "execution_count": null,
      "outputs": [
        {
          "output_type": "stream",
          "text": [
            "0:\tlearn: 0.6278317\ttest: 0.6361129\tbest: 0.6361129 (0)\ttotal: 297ms\tremaining: 49m 32s\n",
            "500:\tlearn: 0.9382991\ttest: 0.9323149\tbest: 0.9327392 (499)\ttotal: 1m 50s\tremaining: 35m\n",
            "1000:\tlearn: 0.9655685\ttest: 0.9465309\tbest: 0.9467431 (963)\ttotal: 3m 37s\tremaining: 32m 38s\n",
            "1500:\tlearn: 0.9790970\ttest: 0.9550180\tbest: 0.9554424 (1498)\ttotal: 5m 23s\tremaining: 30m 34s\n",
            "2000:\tlearn: 0.9867898\ttest: 0.9582007\tbest: 0.9586251 (1996)\ttotal: 7m 9s\tremaining: 28m 38s\n",
            "2500:\tlearn: 0.9910871\ttest: 0.9596860\tbest: 0.9598982 (2396)\ttotal: 8m 57s\tremaining: 26m 50s\n",
            "3000:\tlearn: 0.9942172\ttest: 0.9620199\tbest: 0.9620199 (2844)\ttotal: 10m 43s\tremaining: 25m 1s\n",
            "3500:\tlearn: 0.9967638\ttest: 0.9630808\tbest: 0.9637174 (3357)\ttotal: 12m 30s\tremaining: 23m 12s\n",
            "4000:\tlearn: 0.9978779\ttest: 0.9639296\tbest: 0.9647783 (3836)\ttotal: 14m 17s\tremaining: 21m 25s\n",
            "4500:\tlearn: 0.9987798\ttest: 0.9654148\tbest: 0.9654148 (4355)\ttotal: 16m 4s\tremaining: 19m 38s\n",
            "5000:\tlearn: 0.9992042\ttest: 0.9649905\tbest: 0.9654148 (4355)\ttotal: 17m 52s\tremaining: 17m 51s\n",
            "Stopped by overfitting detector  (1000 iterations wait)\n",
            "\n",
            "bestTest = 0.9654148101\n",
            "bestIteration = 4355\n",
            "\n",
            "Shrink model to first 4356 iterations.\n"
          ],
          "name": "stdout"
        },
        {
          "output_type": "execute_result",
          "data": {
            "text/plain": [
              "<catboost.core.CatBoostClassifier at 0x7f5f8185d4d0>"
            ]
          },
          "metadata": {
            "tags": []
          },
          "execution_count": 25
        }
      ]
    },
    {
      "cell_type": "code",
      "metadata": {
        "id": "i_cihl01qJE4"
      },
      "source": [
        ""
      ],
      "execution_count": null,
      "outputs": []
    },
    {
      "cell_type": "code",
      "metadata": {
        "colab": {
          "base_uri": "https://localhost:8080/"
        },
        "id": "QsgntVc4ldST",
        "outputId": "9c2536f1-a1f3-412a-e90f-2a3827e9dc4d"
      },
      "source": [
        "from sklearn.model_selection import GridSearchCV\n",
        "\n",
        "# scaler = StandardScaler()\n",
        "# scaler.fit(X_train_new)\n",
        "# X_train_data_lr = scaler.transform(X_train_new)\n",
        "# X_test_data_lr = scaler.transform(X_test_new)\n",
        "# logistic regression model\n",
        "# lr = LogisticRegression(random_state = 21)\n",
        "forest = RandomForestClassifier()\n",
        "\n",
        "n_estimators = [50, 100]\n",
        "max_depth = [15, 30]\n",
        "min_samples_split = [5, 15, 100]\n",
        "min_samples_leaf = [5, 10] \n",
        "\n",
        "hyperF = dict(n_estimators = n_estimators, max_depth = max_depth,  \n",
        "              min_samples_split = min_samples_split, \n",
        "             min_samples_leaf = min_samples_leaf)\n",
        "\n",
        "gridF = GridSearchCV(forest, hyperF, cv = 3, verbose = 1, n_jobs=-1)\n",
        "bestF = gridF.fit(X_train_data_lr, y_train_new)"
      ],
      "execution_count": null,
      "outputs": [
        {
          "output_type": "stream",
          "text": [
            "Fitting 3 folds for each of 24 candidates, totalling 72 fits\n"
          ],
          "name": "stdout"
        },
        {
          "output_type": "stream",
          "text": [
            "[Parallel(n_jobs=-1)]: Using backend LokyBackend with 2 concurrent workers.\n",
            "[Parallel(n_jobs=-1)]: Done  46 tasks      | elapsed:  3.5min\n",
            "[Parallel(n_jobs=-1)]: Done  72 out of  72 | elapsed:  5.5min finished\n"
          ],
          "name": "stderr"
        }
      ]
    },
    {
      "cell_type": "code",
      "metadata": {
        "colab": {
          "base_uri": "https://localhost:8080/"
        },
        "id": "wKxeeRVQ3s1N",
        "outputId": "a7dbbe25-5581-48ef-a123-380b70b2620b"
      },
      "source": [
        "bestF.best_score_"
      ],
      "execution_count": null,
      "outputs": [
        {
          "output_type": "execute_result",
          "data": {
            "text/plain": [
              "0.9347031963470321"
            ]
          },
          "metadata": {
            "tags": []
          },
          "execution_count": 348
        }
      ]
    },
    {
      "cell_type": "code",
      "metadata": {
        "colab": {
          "base_uri": "https://localhost:8080/"
        },
        "id": "xHhvvF66R8Cs",
        "outputId": "ceba66c4-f401-4a46-f73b-27c8268b4fd4"
      },
      "source": [
        "X_test_data_lr.shape"
      ],
      "execution_count": null,
      "outputs": [
        {
          "output_type": "execute_result",
          "data": {
            "text/plain": [
              "(4723, 112)"
            ]
          },
          "metadata": {
            "tags": []
          },
          "execution_count": 202
        }
      ]
    },
    {
      "cell_type": "code",
      "metadata": {
        "colab": {
          "base_uri": "https://localhost:8080/"
        },
        "id": "DmIoE9sksO5s",
        "outputId": "646a505e-cd20-430e-9e98-b90800e8b61f"
      },
      "source": [
        "y_train.shape"
      ],
      "execution_count": null,
      "outputs": [
        {
          "output_type": "execute_result",
          "data": {
            "text/plain": [
              "(65628, 9)"
            ]
          },
          "metadata": {
            "tags": []
          },
          "execution_count": 62
        }
      ]
    },
    {
      "cell_type": "code",
      "metadata": {
        "id": "XXTU-P1U0wmb"
      },
      "source": [
        "from sklearn.linear_model import RidgeClassifier"
      ],
      "execution_count": null,
      "outputs": []
    },
    {
      "cell_type": "code",
      "metadata": {
        "colab": {
          "base_uri": "https://localhost:8080/"
        },
        "id": "6-xf25qXzX4T",
        "outputId": "1f2a59a8-b6b0-4274-b301-f865bacff72e"
      },
      "source": [
        "rr = RidgeClassifier(random_state = 21)\n",
        "rr.fit(X_train_data_lr, y_train_new)\n",
        "y_pred = rr.predict(X_test_data_lr)\n",
        "print(\"Accuracy:\", accuracy_score(y_test_new, y_pred))\n",
        "print(\"\\n -------------Classification Report-------------\\n\")\n",
        "print(classification_report(y_test_new, y_pred))"
      ],
      "execution_count": null,
      "outputs": [
        {
          "output_type": "stream",
          "text": [
            "Accuracy: 0.7320885801128962\n",
            "\n",
            " -------------Classification Report-------------\n",
            "\n",
            "              precision    recall  f1-score   support\n",
            "\n",
            "           0       0.83      0.93      0.88       456\n",
            "           1       0.66      0.79      0.72       419\n",
            "           2       0.89      0.84      0.87       430\n",
            "           3       0.73      0.75      0.74       425\n",
            "           4       0.54      0.53      0.54       439\n",
            "           5       0.93      0.41      0.57        34\n",
            "           6       1.00      0.05      0.10        40\n",
            "           7       0.00      0.00      0.00        44\n",
            "           8       1.00      0.12      0.22        16\n",
            "\n",
            "    accuracy                           0.73      2303\n",
            "   macro avg       0.73      0.49      0.51      2303\n",
            "weighted avg       0.73      0.73      0.72      2303\n",
            "\n"
          ],
          "name": "stdout"
        },
        {
          "output_type": "stream",
          "text": [
            "/usr/local/lib/python3.7/dist-packages/sklearn/metrics/_classification.py:1272: UndefinedMetricWarning: Precision and F-score are ill-defined and being set to 0.0 in labels with no predicted samples. Use `zero_division` parameter to control this behavior.\n",
            "  _warn_prf(average, modifier, msg_start, len(result))\n"
          ],
          "name": "stderr"
        }
      ]
    },
    {
      "cell_type": "code",
      "metadata": {
        "id": "JhcRT3j40Vej"
      },
      "source": [
        "path = './drive/MyDrive/Colab Notebooks/kaggle_data'"
      ],
      "execution_count": null,
      "outputs": []
    },
    {
      "cell_type": "code",
      "metadata": {
        "colab": {
          "base_uri": "https://localhost:8080/"
        },
        "id": "ql_E5izfQR1D",
        "outputId": "84418416-4441-4bf6-ba4b-ad13bcd3940d"
      },
      "source": [
        "y_pred_train = lr.predict(X_train_data_lr)\n",
        "print(\"Accuracy:\", accuracy_score(y_train_new, y_pred_train))"
      ],
      "execution_count": null,
      "outputs": [
        {
          "output_type": "stream",
          "text": [
            "Accuracy: 1.0\n"
          ],
          "name": "stdout"
        }
      ]
    },
    {
      "cell_type": "code",
      "metadata": {
        "colab": {
          "base_uri": "https://localhost:8080/",
          "height": 162
        },
        "id": "XR5Nb2N_26if",
        "outputId": "e7a052b3-325d-4a02-efac-d5d2334d1782"
      },
      "source": [
        "os.listdir('./drive/MyDrive/Colab Notebooks')"
      ],
      "execution_count": null,
      "outputs": [
        {
          "output_type": "error",
          "ename": "NameError",
          "evalue": "ignored",
          "traceback": [
            "\u001b[0;31m---------------------------------------------------------------------------\u001b[0m",
            "\u001b[0;31mNameError\u001b[0m                                 Traceback (most recent call last)",
            "\u001b[0;32m<ipython-input-27-87aa8939e7dc>\u001b[0m in \u001b[0;36m<module>\u001b[0;34m()\u001b[0m\n\u001b[0;32m----> 1\u001b[0;31m \u001b[0mos\u001b[0m\u001b[0;34m.\u001b[0m\u001b[0mlistdir\u001b[0m\u001b[0;34m(\u001b[0m\u001b[0;34m'./drive/MyDrive/Colab Notebooks'\u001b[0m\u001b[0;34m)\u001b[0m\u001b[0;34m\u001b[0m\u001b[0;34m\u001b[0m\u001b[0m\n\u001b[0m",
            "\u001b[0;31mNameError\u001b[0m: name 'os' is not defined"
          ]
        }
      ]
    },
    {
      "cell_type": "code",
      "metadata": {
        "colab": {
          "base_uri": "https://localhost:8080/"
        },
        "id": "e1scraRt13Af",
        "outputId": "01aa8203-8947-454e-85d2-0b28732bf87c"
      },
      "source": [
        "import os\n",
        "\n",
        "Data_new = []\n",
        "Target_new = []\n",
        "\n",
        "for p in os.listdir(path):\n",
        "    full_path = os.path.join(path, p)\n",
        "    if os.path.isfile(full_path):\n",
        "        with open(full_path, 'r') as my_file:\n",
        "            print(full_path.split(\"\\\\\")[-1])\n",
        "            try:\n",
        "                df = pd.read_csv(my_file, delimiter=';')\n",
        "                if df.shape[1] == 5:\n",
        "                    Data_new.append(df)\n",
        "                    Target_new.append(full_path.split(\"\\\\\")[-1])\n",
        "            except:\n",
        "                print(full_path.split(\"\\\\\")[-1])\n",
        "                pass\n",
        "            \n",
        "for p in os.listdir(path):\n",
        "    full_path = os.path.join(path, p)\n",
        "    if os.path.isfile(full_path):\n",
        "        with open(full_path, 'r') as my_file:\n",
        "            print(full_path.split(\"\\\\\")[-1])\n",
        "            try:\n",
        "                df = pd.read_csv(my_file, delimiter=',')\n",
        "                if df.shape[1] == 5:\n",
        "                    Data_new.append(df)\n",
        "                    Target_new.append(full_path.split(\"\\\\\")[-1])\n",
        "            except:\n",
        "                print(full_path.split(\"\\\\\")[-1])\n",
        "                pass"
      ],
      "execution_count": null,
      "outputs": [
        {
          "output_type": "stream",
          "text": [
            "./drive/MyDrive/Colab Notebooks/kaggle_data/track_138.csv\n",
            "./drive/MyDrive/Colab Notebooks/kaggle_data/track_139.csv\n",
            "./drive/MyDrive/Colab Notebooks/kaggle_data/track_103.csv\n",
            "./drive/MyDrive/Colab Notebooks/kaggle_data/track_131.csv\n",
            "./drive/MyDrive/Colab Notebooks/kaggle_data/track_113.csv\n",
            "./drive/MyDrive/Colab Notebooks/kaggle_data/track_123.csv\n",
            "./drive/MyDrive/Colab Notebooks/kaggle_data/track_124.csv\n",
            "./drive/MyDrive/Colab Notebooks/kaggle_data/track_12.csv\n",
            "./drive/MyDrive/Colab Notebooks/kaggle_data/track_100.csv\n",
            "./drive/MyDrive/Colab Notebooks/kaggle_data/track_10.csv\n",
            "./drive/MyDrive/Colab Notebooks/kaggle_data/track_105.csv\n",
            "./drive/MyDrive/Colab Notebooks/kaggle_data/track_2.csv\n",
            "./drive/MyDrive/Colab Notebooks/kaggle_data/track_140.csv\n",
            "./drive/MyDrive/Colab Notebooks/kaggle_data/track_119.csv\n",
            "./drive/MyDrive/Colab Notebooks/kaggle_data/track_135.csv\n",
            "./drive/MyDrive/Colab Notebooks/kaggle_data/track_13.csv\n",
            "./drive/MyDrive/Colab Notebooks/kaggle_data/track_21.csv\n",
            "./drive/MyDrive/Colab Notebooks/kaggle_data/track_111.csv\n",
            "./drive/MyDrive/Colab Notebooks/kaggle_data/track_20.csv\n",
            "./drive/MyDrive/Colab Notebooks/kaggle_data/track_19.csv\n",
            "./drive/MyDrive/Colab Notebooks/kaggle_data/track_112.csv\n",
            "./drive/MyDrive/Colab Notebooks/kaggle_data/track_15.csv\n",
            "./drive/MyDrive/Colab Notebooks/kaggle_data/track_106.csv\n",
            "./drive/MyDrive/Colab Notebooks/kaggle_data/track_136.csv\n",
            "./drive/MyDrive/Colab Notebooks/kaggle_data/track_16.csv\n",
            "./drive/MyDrive/Colab Notebooks/kaggle_data/track_107.csv\n",
            "./drive/MyDrive/Colab Notebooks/kaggle_data/track_120.csv\n",
            "./drive/MyDrive/Colab Notebooks/kaggle_data/track_141.csv\n",
            "./drive/MyDrive/Colab Notebooks/kaggle_data/track_114.csv\n",
            "./drive/MyDrive/Colab Notebooks/kaggle_data/track_24.csv\n",
            "./drive/MyDrive/Colab Notebooks/kaggle_data/track_23.csv\n",
            "./drive/MyDrive/Colab Notebooks/kaggle_data/track_104.csv\n",
            "./drive/MyDrive/Colab Notebooks/kaggle_data/track_125.csv\n",
            "./drive/MyDrive/Colab Notebooks/kaggle_data/track_11.csv\n",
            "./drive/MyDrive/Colab Notebooks/kaggle_data/track_128.csv\n",
            "./drive/MyDrive/Colab Notebooks/kaggle_data/track_137.csv\n",
            "./drive/MyDrive/Colab Notebooks/kaggle_data/track_118.csv\n",
            "./drive/MyDrive/Colab Notebooks/kaggle_data/track_127.csv\n",
            "./drive/MyDrive/Colab Notebooks/kaggle_data/track_132.csv\n",
            "./drive/MyDrive/Colab Notebooks/kaggle_data/track_1.csv\n",
            "./drive/MyDrive/Colab Notebooks/kaggle_data/track_0.csv\n",
            "./drive/MyDrive/Colab Notebooks/kaggle_data/track_109.csv\n",
            "./drive/MyDrive/Colab Notebooks/kaggle_data/track_126.csv\n",
            "./drive/MyDrive/Colab Notebooks/kaggle_data/track_102.csv\n",
            "./drive/MyDrive/Colab Notebooks/kaggle_data/track_133.csv\n",
            "./drive/MyDrive/Colab Notebooks/kaggle_data/track_130.csv\n",
            "./drive/MyDrive/Colab Notebooks/kaggle_data/track_18.csv\n",
            "./drive/MyDrive/Colab Notebooks/kaggle_data/track_108.csv\n",
            "./drive/MyDrive/Colab Notebooks/kaggle_data/track_142.csv\n",
            "./drive/MyDrive/Colab Notebooks/kaggle_data/track_134.csv\n",
            "./drive/MyDrive/Colab Notebooks/kaggle_data/track_143.csv\n",
            "./drive/MyDrive/Colab Notebooks/kaggle_data/track_17.csv\n",
            "./drive/MyDrive/Colab Notebooks/kaggle_data/track_116.csv\n",
            "./drive/MyDrive/Colab Notebooks/kaggle_data/track_122.csv\n",
            "./drive/MyDrive/Colab Notebooks/kaggle_data/track_110.csv\n",
            "./drive/MyDrive/Colab Notebooks/kaggle_data/track_14.csv\n",
            "./drive/MyDrive/Colab Notebooks/kaggle_data/track_22.csv\n",
            "./drive/MyDrive/Colab Notebooks/kaggle_data/track_145.csv\n",
            "./drive/MyDrive/Colab Notebooks/kaggle_data/track_129.csv\n",
            "./drive/MyDrive/Colab Notebooks/kaggle_data/track_117.csv\n",
            "./drive/MyDrive/Colab Notebooks/kaggle_data/track_144.csv\n",
            "./drive/MyDrive/Colab Notebooks/kaggle_data/track_121.csv\n",
            "./drive/MyDrive/Colab Notebooks/kaggle_data/track_115.csv\n",
            "./drive/MyDrive/Colab Notebooks/kaggle_data/track_101.csv\n",
            "./drive/MyDrive/Colab Notebooks/kaggle_data/track_91.csv\n",
            "./drive/MyDrive/Colab Notebooks/kaggle_data/track_84.csv\n",
            "./drive/MyDrive/Colab Notebooks/kaggle_data/track_9.csv\n",
            "./drive/MyDrive/Colab Notebooks/kaggle_data/track_38.csv\n",
            "./drive/MyDrive/Colab Notebooks/kaggle_data/track_92.csv\n",
            "./drive/MyDrive/Colab Notebooks/kaggle_data/track_26.csv\n",
            "./drive/MyDrive/Colab Notebooks/kaggle_data/track_88.csv\n",
            "./drive/MyDrive/Colab Notebooks/kaggle_data/track_70.csv\n",
            "./drive/MyDrive/Colab Notebooks/kaggle_data/track_46.csv\n",
            "./drive/MyDrive/Colab Notebooks/kaggle_data/track_73.csv\n",
            "./drive/MyDrive/Colab Notebooks/kaggle_data/track_69.csv\n",
            "./drive/MyDrive/Colab Notebooks/kaggle_data/track_72.csv\n",
            "./drive/MyDrive/Colab Notebooks/kaggle_data/track_83.csv\n",
            "./drive/MyDrive/Colab Notebooks/kaggle_data/track_87.csv\n",
            "./drive/MyDrive/Colab Notebooks/kaggle_data/track_34.csv\n",
            "./drive/MyDrive/Colab Notebooks/kaggle_data/track_36.csv\n",
            "./drive/MyDrive/Colab Notebooks/kaggle_data/track_68.csv\n",
            "./drive/MyDrive/Colab Notebooks/kaggle_data/track_65.csv\n",
            "./drive/MyDrive/Colab Notebooks/kaggle_data/track_77.csv\n",
            "./drive/MyDrive/Colab Notebooks/kaggle_data/track_4.csv\n",
            "./drive/MyDrive/Colab Notebooks/kaggle_data/track_53.csv\n",
            "./drive/MyDrive/Colab Notebooks/kaggle_data/track_99.csv\n",
            "./drive/MyDrive/Colab Notebooks/kaggle_data/track_82.csv\n",
            "./drive/MyDrive/Colab Notebooks/kaggle_data/track_39.csv\n",
            "./drive/MyDrive/Colab Notebooks/kaggle_data/track_43.csv\n",
            "./drive/MyDrive/Colab Notebooks/kaggle_data/track_50.csv\n",
            "./drive/MyDrive/Colab Notebooks/kaggle_data/track_42.csv\n",
            "./drive/MyDrive/Colab Notebooks/kaggle_data/track_7.csv\n",
            "./drive/MyDrive/Colab Notebooks/kaggle_data/track_89.csv\n",
            "./drive/MyDrive/Colab Notebooks/kaggle_data/track_80.csv\n",
            "./drive/MyDrive/Colab Notebooks/kaggle_data/track_62.csv\n",
            "./drive/MyDrive/Colab Notebooks/kaggle_data/track_79.csv\n",
            "./drive/MyDrive/Colab Notebooks/kaggle_data/track_81.csv\n",
            "./drive/MyDrive/Colab Notebooks/kaggle_data/track_76.csv\n",
            "./drive/MyDrive/Colab Notebooks/kaggle_data/track_57.csv\n",
            "./drive/MyDrive/Colab Notebooks/kaggle_data/track_28.csv\n",
            "./drive/MyDrive/Colab Notebooks/kaggle_data/track_40.csv\n",
            "./drive/MyDrive/Colab Notebooks/kaggle_data/track_44.csv\n",
            "./drive/MyDrive/Colab Notebooks/kaggle_data/track_59.csv\n",
            "./drive/MyDrive/Colab Notebooks/kaggle_data/track_52.csv\n",
            "./drive/MyDrive/Colab Notebooks/kaggle_data/track_71.csv\n",
            "./drive/MyDrive/Colab Notebooks/kaggle_data/track_3.csv\n",
            "./drive/MyDrive/Colab Notebooks/kaggle_data/track_60.csv\n",
            "./drive/MyDrive/Colab Notebooks/kaggle_data/track_56.csv\n",
            "./drive/MyDrive/Colab Notebooks/kaggle_data/track_51.csv\n",
            "./drive/MyDrive/Colab Notebooks/kaggle_data/track_47.csv\n",
            "./drive/MyDrive/Colab Notebooks/kaggle_data/track_54.csv\n",
            "./drive/MyDrive/Colab Notebooks/kaggle_data/track_6.csv\n",
            "./drive/MyDrive/Colab Notebooks/kaggle_data/track_64.csv\n",
            "./drive/MyDrive/Colab Notebooks/kaggle_data/track_67.csv\n",
            "./drive/MyDrive/Colab Notebooks/kaggle_data/track_5.csv\n",
            "./drive/MyDrive/Colab Notebooks/kaggle_data/track_30.csv\n",
            "./drive/MyDrive/Colab Notebooks/kaggle_data/track_78.csv\n",
            "./drive/MyDrive/Colab Notebooks/kaggle_data/track_63.csv\n",
            "./drive/MyDrive/Colab Notebooks/kaggle_data/track_74.csv\n",
            "./drive/MyDrive/Colab Notebooks/kaggle_data/track_48.csv\n",
            "./drive/MyDrive/Colab Notebooks/kaggle_data/track_32.csv\n",
            "./drive/MyDrive/Colab Notebooks/kaggle_data/track_25.csv\n",
            "./drive/MyDrive/Colab Notebooks/kaggle_data/track_86.csv\n",
            "./drive/MyDrive/Colab Notebooks/kaggle_data/track_45.csv\n",
            "./drive/MyDrive/Colab Notebooks/kaggle_data/track_8.csv\n",
            "./drive/MyDrive/Colab Notebooks/kaggle_data/track_85.csv\n",
            "./drive/MyDrive/Colab Notebooks/kaggle_data/track_66.csv\n",
            "./drive/MyDrive/Colab Notebooks/kaggle_data/track_29.csv\n",
            "./drive/MyDrive/Colab Notebooks/kaggle_data/track_61.csv\n",
            "./drive/MyDrive/Colab Notebooks/kaggle_data/track_58.csv\n",
            "./drive/MyDrive/Colab Notebooks/kaggle_data/track_75.csv\n",
            "./drive/MyDrive/Colab Notebooks/kaggle_data/track_96.csv\n",
            "./drive/MyDrive/Colab Notebooks/kaggle_data/track_33.csv\n",
            "./drive/MyDrive/Colab Notebooks/kaggle_data/track_31.csv\n",
            "./drive/MyDrive/Colab Notebooks/kaggle_data/track_55.csv\n",
            "./drive/MyDrive/Colab Notebooks/kaggle_data/track_41.csv\n",
            "./drive/MyDrive/Colab Notebooks/kaggle_data/track_94.csv\n",
            "./drive/MyDrive/Colab Notebooks/kaggle_data/track_27.csv\n",
            "./drive/MyDrive/Colab Notebooks/kaggle_data/track_37.csv\n",
            "./drive/MyDrive/Colab Notebooks/kaggle_data/track_98.csv\n",
            "./drive/MyDrive/Colab Notebooks/kaggle_data/track_97.csv\n",
            "./drive/MyDrive/Colab Notebooks/kaggle_data/track_90.csv\n",
            "./drive/MyDrive/Colab Notebooks/kaggle_data/track_95.csv\n",
            "./drive/MyDrive/Colab Notebooks/kaggle_data/track_49.csv\n",
            "./drive/MyDrive/Colab Notebooks/kaggle_data/track_93.csv\n",
            "./drive/MyDrive/Colab Notebooks/kaggle_data/track_35.csv\n",
            "./drive/MyDrive/Colab Notebooks/kaggle_data/track_138.csv\n",
            "./drive/MyDrive/Colab Notebooks/kaggle_data/track_139.csv\n",
            "./drive/MyDrive/Colab Notebooks/kaggle_data/track_103.csv\n",
            "./drive/MyDrive/Colab Notebooks/kaggle_data/track_131.csv\n",
            "./drive/MyDrive/Colab Notebooks/kaggle_data/track_113.csv\n",
            "./drive/MyDrive/Colab Notebooks/kaggle_data/track_123.csv\n",
            "./drive/MyDrive/Colab Notebooks/kaggle_data/track_124.csv\n",
            "./drive/MyDrive/Colab Notebooks/kaggle_data/track_12.csv\n",
            "./drive/MyDrive/Colab Notebooks/kaggle_data/track_100.csv\n",
            "./drive/MyDrive/Colab Notebooks/kaggle_data/track_10.csv\n",
            "./drive/MyDrive/Colab Notebooks/kaggle_data/track_105.csv\n",
            "./drive/MyDrive/Colab Notebooks/kaggle_data/track_2.csv\n",
            "./drive/MyDrive/Colab Notebooks/kaggle_data/track_140.csv\n",
            "./drive/MyDrive/Colab Notebooks/kaggle_data/track_119.csv\n",
            "./drive/MyDrive/Colab Notebooks/kaggle_data/track_135.csv\n",
            "./drive/MyDrive/Colab Notebooks/kaggle_data/track_13.csv\n",
            "./drive/MyDrive/Colab Notebooks/kaggle_data/track_21.csv\n",
            "./drive/MyDrive/Colab Notebooks/kaggle_data/track_111.csv\n",
            "./drive/MyDrive/Colab Notebooks/kaggle_data/track_20.csv\n",
            "./drive/MyDrive/Colab Notebooks/kaggle_data/track_19.csv\n",
            "./drive/MyDrive/Colab Notebooks/kaggle_data/track_112.csv\n",
            "./drive/MyDrive/Colab Notebooks/kaggle_data/track_15.csv\n",
            "./drive/MyDrive/Colab Notebooks/kaggle_data/track_106.csv\n",
            "./drive/MyDrive/Colab Notebooks/kaggle_data/track_136.csv\n",
            "./drive/MyDrive/Colab Notebooks/kaggle_data/track_16.csv\n",
            "./drive/MyDrive/Colab Notebooks/kaggle_data/track_107.csv\n",
            "./drive/MyDrive/Colab Notebooks/kaggle_data/track_120.csv\n",
            "./drive/MyDrive/Colab Notebooks/kaggle_data/track_141.csv\n",
            "./drive/MyDrive/Colab Notebooks/kaggle_data/track_114.csv\n",
            "./drive/MyDrive/Colab Notebooks/kaggle_data/track_24.csv\n",
            "./drive/MyDrive/Colab Notebooks/kaggle_data/track_23.csv\n",
            "./drive/MyDrive/Colab Notebooks/kaggle_data/track_104.csv\n",
            "./drive/MyDrive/Colab Notebooks/kaggle_data/track_125.csv\n",
            "./drive/MyDrive/Colab Notebooks/kaggle_data/track_11.csv\n",
            "./drive/MyDrive/Colab Notebooks/kaggle_data/track_128.csv\n",
            "./drive/MyDrive/Colab Notebooks/kaggle_data/track_137.csv\n",
            "./drive/MyDrive/Colab Notebooks/kaggle_data/track_118.csv\n",
            "./drive/MyDrive/Colab Notebooks/kaggle_data/track_127.csv\n",
            "./drive/MyDrive/Colab Notebooks/kaggle_data/track_132.csv\n",
            "./drive/MyDrive/Colab Notebooks/kaggle_data/track_1.csv\n",
            "./drive/MyDrive/Colab Notebooks/kaggle_data/track_0.csv\n",
            "./drive/MyDrive/Colab Notebooks/kaggle_data/track_109.csv\n",
            "./drive/MyDrive/Colab Notebooks/kaggle_data/track_126.csv\n",
            "./drive/MyDrive/Colab Notebooks/kaggle_data/track_102.csv\n",
            "./drive/MyDrive/Colab Notebooks/kaggle_data/track_133.csv\n",
            "./drive/MyDrive/Colab Notebooks/kaggle_data/track_130.csv\n",
            "./drive/MyDrive/Colab Notebooks/kaggle_data/track_18.csv\n",
            "./drive/MyDrive/Colab Notebooks/kaggle_data/track_108.csv\n",
            "./drive/MyDrive/Colab Notebooks/kaggle_data/track_142.csv\n",
            "./drive/MyDrive/Colab Notebooks/kaggle_data/track_134.csv\n",
            "./drive/MyDrive/Colab Notebooks/kaggle_data/track_143.csv\n",
            "./drive/MyDrive/Colab Notebooks/kaggle_data/track_17.csv\n",
            "./drive/MyDrive/Colab Notebooks/kaggle_data/track_116.csv\n",
            "./drive/MyDrive/Colab Notebooks/kaggle_data/track_122.csv\n",
            "./drive/MyDrive/Colab Notebooks/kaggle_data/track_110.csv\n",
            "./drive/MyDrive/Colab Notebooks/kaggle_data/track_14.csv\n",
            "./drive/MyDrive/Colab Notebooks/kaggle_data/track_22.csv\n",
            "./drive/MyDrive/Colab Notebooks/kaggle_data/track_145.csv\n",
            "./drive/MyDrive/Colab Notebooks/kaggle_data/track_129.csv\n",
            "./drive/MyDrive/Colab Notebooks/kaggle_data/track_117.csv\n",
            "./drive/MyDrive/Colab Notebooks/kaggle_data/track_144.csv\n",
            "./drive/MyDrive/Colab Notebooks/kaggle_data/track_121.csv\n",
            "./drive/MyDrive/Colab Notebooks/kaggle_data/track_115.csv\n",
            "./drive/MyDrive/Colab Notebooks/kaggle_data/track_101.csv\n",
            "./drive/MyDrive/Colab Notebooks/kaggle_data/track_91.csv\n",
            "./drive/MyDrive/Colab Notebooks/kaggle_data/track_84.csv\n",
            "./drive/MyDrive/Colab Notebooks/kaggle_data/track_9.csv\n",
            "./drive/MyDrive/Colab Notebooks/kaggle_data/track_38.csv\n",
            "./drive/MyDrive/Colab Notebooks/kaggle_data/track_92.csv\n",
            "./drive/MyDrive/Colab Notebooks/kaggle_data/track_26.csv\n",
            "./drive/MyDrive/Colab Notebooks/kaggle_data/track_88.csv\n",
            "./drive/MyDrive/Colab Notebooks/kaggle_data/track_70.csv\n",
            "./drive/MyDrive/Colab Notebooks/kaggle_data/track_46.csv\n",
            "./drive/MyDrive/Colab Notebooks/kaggle_data/track_73.csv\n",
            "./drive/MyDrive/Colab Notebooks/kaggle_data/track_69.csv\n",
            "./drive/MyDrive/Colab Notebooks/kaggle_data/track_72.csv\n",
            "./drive/MyDrive/Colab Notebooks/kaggle_data/track_83.csv\n",
            "./drive/MyDrive/Colab Notebooks/kaggle_data/track_87.csv\n",
            "./drive/MyDrive/Colab Notebooks/kaggle_data/track_34.csv\n",
            "./drive/MyDrive/Colab Notebooks/kaggle_data/track_36.csv\n",
            "./drive/MyDrive/Colab Notebooks/kaggle_data/track_68.csv\n",
            "./drive/MyDrive/Colab Notebooks/kaggle_data/track_65.csv\n",
            "./drive/MyDrive/Colab Notebooks/kaggle_data/track_77.csv\n",
            "./drive/MyDrive/Colab Notebooks/kaggle_data/track_4.csv\n",
            "./drive/MyDrive/Colab Notebooks/kaggle_data/track_53.csv\n",
            "./drive/MyDrive/Colab Notebooks/kaggle_data/track_99.csv\n",
            "./drive/MyDrive/Colab Notebooks/kaggle_data/track_82.csv\n",
            "./drive/MyDrive/Colab Notebooks/kaggle_data/track_39.csv\n",
            "./drive/MyDrive/Colab Notebooks/kaggle_data/track_43.csv\n",
            "./drive/MyDrive/Colab Notebooks/kaggle_data/track_50.csv\n",
            "./drive/MyDrive/Colab Notebooks/kaggle_data/track_42.csv\n",
            "./drive/MyDrive/Colab Notebooks/kaggle_data/track_7.csv\n",
            "./drive/MyDrive/Colab Notebooks/kaggle_data/track_89.csv\n",
            "./drive/MyDrive/Colab Notebooks/kaggle_data/track_80.csv\n",
            "./drive/MyDrive/Colab Notebooks/kaggle_data/track_62.csv\n",
            "./drive/MyDrive/Colab Notebooks/kaggle_data/track_79.csv\n",
            "./drive/MyDrive/Colab Notebooks/kaggle_data/track_81.csv\n",
            "./drive/MyDrive/Colab Notebooks/kaggle_data/track_76.csv\n",
            "./drive/MyDrive/Colab Notebooks/kaggle_data/track_57.csv\n",
            "./drive/MyDrive/Colab Notebooks/kaggle_data/track_28.csv\n",
            "./drive/MyDrive/Colab Notebooks/kaggle_data/track_40.csv\n",
            "./drive/MyDrive/Colab Notebooks/kaggle_data/track_44.csv\n",
            "./drive/MyDrive/Colab Notebooks/kaggle_data/track_59.csv\n",
            "./drive/MyDrive/Colab Notebooks/kaggle_data/track_52.csv\n",
            "./drive/MyDrive/Colab Notebooks/kaggle_data/track_71.csv\n",
            "./drive/MyDrive/Colab Notebooks/kaggle_data/track_3.csv\n",
            "./drive/MyDrive/Colab Notebooks/kaggle_data/track_60.csv\n",
            "./drive/MyDrive/Colab Notebooks/kaggle_data/track_56.csv\n",
            "./drive/MyDrive/Colab Notebooks/kaggle_data/track_51.csv\n",
            "./drive/MyDrive/Colab Notebooks/kaggle_data/track_47.csv\n",
            "./drive/MyDrive/Colab Notebooks/kaggle_data/track_54.csv\n",
            "./drive/MyDrive/Colab Notebooks/kaggle_data/track_6.csv\n",
            "./drive/MyDrive/Colab Notebooks/kaggle_data/track_64.csv\n",
            "./drive/MyDrive/Colab Notebooks/kaggle_data/track_67.csv\n",
            "./drive/MyDrive/Colab Notebooks/kaggle_data/track_5.csv\n",
            "./drive/MyDrive/Colab Notebooks/kaggle_data/track_30.csv\n",
            "./drive/MyDrive/Colab Notebooks/kaggle_data/track_78.csv\n",
            "./drive/MyDrive/Colab Notebooks/kaggle_data/track_63.csv\n",
            "./drive/MyDrive/Colab Notebooks/kaggle_data/track_74.csv\n",
            "./drive/MyDrive/Colab Notebooks/kaggle_data/track_48.csv\n",
            "./drive/MyDrive/Colab Notebooks/kaggle_data/track_32.csv\n",
            "./drive/MyDrive/Colab Notebooks/kaggle_data/track_25.csv\n",
            "./drive/MyDrive/Colab Notebooks/kaggle_data/track_86.csv\n",
            "./drive/MyDrive/Colab Notebooks/kaggle_data/track_45.csv\n",
            "./drive/MyDrive/Colab Notebooks/kaggle_data/track_8.csv\n",
            "./drive/MyDrive/Colab Notebooks/kaggle_data/track_85.csv\n",
            "./drive/MyDrive/Colab Notebooks/kaggle_data/track_66.csv\n",
            "./drive/MyDrive/Colab Notebooks/kaggle_data/track_29.csv\n",
            "./drive/MyDrive/Colab Notebooks/kaggle_data/track_61.csv\n",
            "./drive/MyDrive/Colab Notebooks/kaggle_data/track_58.csv\n",
            "./drive/MyDrive/Colab Notebooks/kaggle_data/track_75.csv\n",
            "./drive/MyDrive/Colab Notebooks/kaggle_data/track_96.csv\n",
            "./drive/MyDrive/Colab Notebooks/kaggle_data/track_33.csv\n",
            "./drive/MyDrive/Colab Notebooks/kaggle_data/track_31.csv\n",
            "./drive/MyDrive/Colab Notebooks/kaggle_data/track_55.csv\n",
            "./drive/MyDrive/Colab Notebooks/kaggle_data/track_41.csv\n",
            "./drive/MyDrive/Colab Notebooks/kaggle_data/track_94.csv\n",
            "./drive/MyDrive/Colab Notebooks/kaggle_data/track_27.csv\n",
            "./drive/MyDrive/Colab Notebooks/kaggle_data/track_37.csv\n",
            "./drive/MyDrive/Colab Notebooks/kaggle_data/track_98.csv\n",
            "./drive/MyDrive/Colab Notebooks/kaggle_data/track_97.csv\n",
            "./drive/MyDrive/Colab Notebooks/kaggle_data/track_90.csv\n",
            "./drive/MyDrive/Colab Notebooks/kaggle_data/track_95.csv\n",
            "./drive/MyDrive/Colab Notebooks/kaggle_data/track_49.csv\n",
            "./drive/MyDrive/Colab Notebooks/kaggle_data/track_93.csv\n",
            "./drive/MyDrive/Colab Notebooks/kaggle_data/track_35.csv\n"
          ],
          "name": "stdout"
        }
      ]
    },
    {
      "cell_type": "code",
      "metadata": {
        "id": "JLyjfTOMzX60"
      },
      "source": [
        "X = []\n",
        "\n",
        "for idx, val in enumerate(Data_new):\n",
        "    # try:\n",
        "    #     val = val.applymap(lambda x: str(x).replace(',','.'))\n",
        "    #     X.append(val.values.astype(np.float))\n",
        "    # except:\n",
        "    #     print(idx)\n",
        "    val = val.iloc[:, 1:4]\n",
        "    val = val.applymap(lambda x: str(x).replace(',','.'))\n",
        "    X.append(val.values.astype(np.float))"
      ],
      "execution_count": null,
      "outputs": []
    },
    {
      "cell_type": "code",
      "metadata": {
        "colab": {
          "base_uri": "https://localhost:8080/"
        },
        "id": "BIfDvJ43zX9V",
        "outputId": "bac36bcf-095a-40f8-ca80-5cb2eb214a8d"
      },
      "source": [
        "X[0]"
      ],
      "execution_count": null,
      "outputs": [
        {
          "output_type": "execute_result",
          "data": {
            "text/plain": [
              "array([[ 0.002, -0.28 , -0.876],\n",
              "       [ 0.002, -0.28 , -0.876],\n",
              "       [-0.07 , -0.325, -0.809],\n",
              "       ...,\n",
              "       [-0.019, -0.233, -0.958],\n",
              "       [-0.002, -0.255, -0.827],\n",
              "       [-0.018, -0.291, -1.005]])"
            ]
          },
          "metadata": {
            "tags": []
          },
          "execution_count": 31
        }
      ]
    },
    {
      "cell_type": "code",
      "metadata": {
        "colab": {
          "base_uri": "https://localhost:8080/"
        },
        "id": "iC_zXr2dJiZs",
        "outputId": "ec4c5564-678c-4ed2-b894-b491dfb24ae3"
      },
      "source": [
        "len(X)"
      ],
      "execution_count": null,
      "outputs": [
        {
          "output_type": "execute_result",
          "data": {
            "text/plain": [
              "146"
            ]
          },
          "metadata": {
            "tags": []
          },
          "execution_count": 140
        }
      ]
    },
    {
      "cell_type": "code",
      "metadata": {
        "id": "HKzjsEHazYAF",
        "cellView": "code"
      },
      "source": [
        "#@title Default title text\n",
        "sizes = []\n",
        "\n",
        "def process(X):\n",
        "    \n",
        "    X_train = []\n",
        "    for i in range(len(X)):\n",
        "        if 2500 < X[i].shape[0] < 5000:\n",
        "            X[i] = X[i][500:-500]\n",
        "        elif 5000 < X[i].shape[0] < 15000:\n",
        "            X[i] = X[i][1000:-1000]\n",
        "        elif X[i].shape[0] > 15000:\n",
        "            X[i] = X[i][3000:-3000]\n",
        "        else:\n",
        "            X[i] = X[i][100:-100]\n",
        "            \n",
        "        X_chunked = [X[i][idx : idx + 128] for idx in range(0, X[i].shape[0], 128)]\n",
        "\n",
        "        if len(X_chunked) < 6:\n",
        "            print(len(X_chunked))\n",
        "\n",
        "        if X_chunked[-1].shape[0] != 128:\n",
        "            X_chunked = X_chunked[:-1]\n",
        "        \n",
        "        sizes.append(len(X_chunked))\n",
        "\n",
        "        for j in range(len(X_chunked)):\n",
        "            X_train.append(X_chunked[j].tolist())\n",
        "        \n",
        "    return np.array(X_train)"
      ],
      "execution_count": null,
      "outputs": []
    },
    {
      "cell_type": "code",
      "metadata": {
        "id": "UZHF-yLw-yBt"
      },
      "source": [
        "X_ = X.copy()\n",
        "\n",
        "X_test_kaggle = process(X_)"
      ],
      "execution_count": null,
      "outputs": []
    },
    {
      "cell_type": "code",
      "metadata": {
        "id": "fcA1eOAk_HMY"
      },
      "source": [
        "X_test_kaggle_df = pd.DataFrame()"
      ],
      "execution_count": null,
      "outputs": []
    },
    {
      "cell_type": "code",
      "metadata": {
        "colab": {
          "base_uri": "https://localhost:8080/"
        },
        "id": "63AkPt0sS79S",
        "outputId": "9e4d2df2-e524-4fa8-81bf-50bd250f6235"
      },
      "source": [
        "X_test_kaggle.shape"
      ],
      "execution_count": null,
      "outputs": [
        {
          "output_type": "execute_result",
          "data": {
            "text/plain": [
              "(10435, 128, 3)"
            ]
          },
          "metadata": {
            "tags": []
          },
          "execution_count": 35
        }
      ]
    },
    {
      "cell_type": "code",
      "metadata": {
        "id": "zXOm4gcqBX5s"
      },
      "source": [
        "# mean\n",
        "X_test_kaggle_df['x_mean'] = pd.Series([X_test_kaggle[i][:, 0] for i in range(X_test_kaggle.shape[0])]).apply(lambda x: x.mean())\n",
        "X_test_kaggle_df['y_mean'] = pd.Series([X_test_kaggle[i][:, 1] for i in range(X_test_kaggle.shape[0])]).apply(lambda x: x.mean())\n",
        "X_test_kaggle_df['z_mean'] = pd.Series([X_test_kaggle[i][:, 2] for i in range(X_test_kaggle.shape[0])]).apply(lambda x: x.mean())\n",
        "\n",
        "# std dev\n",
        "X_test_kaggle_df['x_std'] = pd.Series([X_test_kaggle[i][:, 0] for i in range(X_test_kaggle.shape[0])]).apply(lambda x: x.std())\n",
        "X_test_kaggle_df['y_std'] = pd.Series([X_test_kaggle[i][:, 1] for i in range(X_test_kaggle.shape[0])]).apply(lambda x: x.std())\n",
        "X_test_kaggle_df['z_std'] = pd.Series([X_test_kaggle[i][:, 2] for i in range(X_test_kaggle.shape[0])]).apply(lambda x: x.std())\n",
        "\n",
        "# avg absolute diff\n",
        "X_test_kaggle_df['x_aad'] = pd.Series([X_test_kaggle[i][:, 0] for i in range(X_test_kaggle.shape[0])]).apply(lambda x: np.mean(np.absolute(x - np.mean(x))))\n",
        "X_test_kaggle_df['y_aad'] = pd.Series([X_test_kaggle[i][:, 1] for i in range(X_test_kaggle.shape[0])]).apply(lambda x: np.mean(np.absolute(x - np.mean(x))))\n",
        "X_test_kaggle_df['z_aad'] = pd.Series([X_test_kaggle[i][:, 2] for i in range(X_test_kaggle.shape[0])]).apply(lambda x: np.mean(np.absolute(x - np.mean(x))))\n",
        "\n",
        "# min\n",
        "X_test_kaggle_df['x_min'] = pd.Series([X_test_kaggle[i][:, 0] for i in range(X_test_kaggle.shape[0])]).apply(lambda x: x.min())\n",
        "X_test_kaggle_df['y_min'] = pd.Series([X_test_kaggle[i][:, 1] for i in range(X_test_kaggle.shape[0])]).apply(lambda x: x.min())\n",
        "X_test_kaggle_df['z_min'] = pd.Series([X_test_kaggle[i][:, 2] for i in range(X_test_kaggle.shape[0])]).apply(lambda x: x.min())\n",
        "\n",
        "# max\n",
        "X_test_kaggle_df['x_max'] = pd.Series([X_test_kaggle[i][:, 0] for i in range(X_test_kaggle.shape[0])]).apply(lambda x: x.max())\n",
        "X_test_kaggle_df['y_max'] = pd.Series([X_test_kaggle[i][:, 1] for i in range(X_test_kaggle.shape[0])]).apply(lambda x: x.max())\n",
        "X_test_kaggle_df['z_max'] = pd.Series([X_test_kaggle[i][:, 2] for i in range(X_test_kaggle.shape[0])]).apply(lambda x: x.max())\n",
        "\n",
        "# max-min diff\n",
        "X_test_kaggle_df['x_maxmin_diff'] = X_test_kaggle_df['x_max'] - X_test_kaggle_df['x_min']\n",
        "X_test_kaggle_df['y_maxmin_diff'] = X_test_kaggle_df['y_max'] - X_test_kaggle_df['y_min']\n",
        "X_test_kaggle_df['z_maxmin_diff'] = X_test_kaggle_df['z_max'] - X_test_kaggle_df['z_min']\n",
        "\n",
        "# median\n",
        "X_test_kaggle_df['x_median'] = pd.Series([X_test_kaggle[i][:, 0] for i in range(X_test_kaggle.shape[0])]).apply(lambda x: np.median(x))\n",
        "X_test_kaggle_df['y_median'] = pd.Series([X_test_kaggle[i][:, 1] for i in range(X_test_kaggle.shape[0])]).apply(lambda x: np.median(x))\n",
        "X_test_kaggle_df['z_median'] = pd.Series([X_test_kaggle[i][:, 2] for i in range(X_test_kaggle.shape[0])]).apply(lambda x: np.median(x))\n",
        "\n",
        "# median abs dev \n",
        "X_test_kaggle_df['x_mad'] = pd.Series([X_test_kaggle[i][:, 0] for i in range(X_test_kaggle.shape[0])]).apply(lambda x: np.median(np.absolute(x - np.median(x))))\n",
        "X_test_kaggle_df['y_mad'] = pd.Series([X_test_kaggle[i][:, 1] for i in range(X_test_kaggle.shape[0])]).apply(lambda x: np.median(np.absolute(x - np.median(x))))\n",
        "X_test_kaggle_df['z_mad'] = pd.Series([X_test_kaggle[i][:, 2] for i in range(X_test_kaggle.shape[0])]).apply(lambda x: np.median(np.absolute(x - np.median(x))))\n",
        "\n",
        "# interquartile range\n",
        "X_test_kaggle_df['x_IQR'] = pd.Series([X_test_kaggle[i][:, 0] for i in range(X_test_kaggle.shape[0])]).apply(lambda x: np.percentile(x, 75) - np.percentile(x, 25))\n",
        "X_test_kaggle_df['y_IQR'] = pd.Series([X_test_kaggle[i][:, 1] for i in range(X_test_kaggle.shape[0])]).apply(lambda x: np.percentile(x, 75) - np.percentile(x, 25))\n",
        "X_test_kaggle_df['z_IQR'] = pd.Series([X_test_kaggle[i][:, 2] for i in range(X_test_kaggle.shape[0])]).apply(lambda x: np.percentile(x, 75) - np.percentile(x, 25))\n",
        "\n",
        "# negtive count\n",
        "X_test_kaggle_df['x_neg_count'] = pd.Series([X_test_kaggle[i][:, 0] for i in range(X_test_kaggle.shape[0])]).apply(lambda x: np.sum(x < 0))\n",
        "X_test_kaggle_df['y_neg_count'] = pd.Series([X_test_kaggle[i][:, 1] for i in range(X_test_kaggle.shape[0])]).apply(lambda x: np.sum(x < 0))\n",
        "X_test_kaggle_df['z_neg_count'] = pd.Series([X_test_kaggle[i][:, 2] for i in range(X_test_kaggle.shape[0])]).apply(lambda x: np.sum(x < 0))\n",
        "\n",
        "# positive count\n",
        "X_test_kaggle_df['x_pos_count'] = pd.Series([X_test_kaggle[i][:, 0] for i in range(X_test_kaggle.shape[0])]).apply(lambda x: np.sum(x > 0))\n",
        "X_test_kaggle_df['y_pos_count'] = pd.Series([X_test_kaggle[i][:, 1] for i in range(X_test_kaggle.shape[0])]).apply(lambda x: np.sum(x > 0))\n",
        "X_test_kaggle_df['z_pos_count'] = pd.Series([X_test_kaggle[i][:, 2] for i in range(X_test_kaggle.shape[0])]).apply(lambda x: np.sum(x > 0))\n",
        "\n",
        "# values above mean\n",
        "X_test_kaggle_df['x_above_mean'] = pd.Series([X_test_kaggle[i][:, 0] for i in range(X_test_kaggle.shape[0])]).apply(lambda x: np.sum(x > x.mean()))\n",
        "X_test_kaggle_df['y_above_mean'] = pd.Series([X_test_kaggle[i][:, 1] for i in range(X_test_kaggle.shape[0])]).apply(lambda x: np.sum(x > x.mean()))\n",
        "X_test_kaggle_df['z_above_mean'] = pd.Series([X_test_kaggle[i][:, 2] for i in range(X_test_kaggle.shape[0])]).apply(lambda x: np.sum(x > x.mean()))\n",
        "\n",
        "# number of peaks\n",
        "X_test_kaggle_df['x_peak_count'] = pd.Series([X_test_kaggle[i][:, 0] for i in range(X_test_kaggle.shape[0])]).apply(lambda x: len(find_peaks(x)[0]))\n",
        "X_test_kaggle_df['y_peak_count'] = pd.Series([X_test_kaggle[i][:, 1] for i in range(X_test_kaggle.shape[0])]).apply(lambda x: len(find_peaks(x)[0]))\n",
        "X_test_kaggle_df['z_peak_count'] = pd.Series([X_test_kaggle[i][:, 2] for i in range(X_test_kaggle.shape[0])]).apply(lambda x: len(find_peaks(x)[0]))\n",
        "\n",
        "# skewness\n",
        "X_test_kaggle_df['x_skewness'] = pd.Series([X_test_kaggle[i][:, 0] for i in range(X_test_kaggle.shape[0])]).apply(lambda x: stats.skew(x))\n",
        "X_test_kaggle_df['y_skewness'] = pd.Series([X_test_kaggle[i][:, 1] for i in range(X_test_kaggle.shape[0])]).apply(lambda x: stats.skew(x))\n",
        "X_test_kaggle_df['z_skewness'] = pd.Series([X_test_kaggle[i][:, 2] for i in range(X_test_kaggle.shape[0])]).apply(lambda x: stats.skew(x))\n",
        "\n",
        "# kurtosis\n",
        "X_test_kaggle_df['x_kurtosis'] = pd.Series([X_test_kaggle[i][:, 0] for i in range(X_test_kaggle.shape[0])]).apply(lambda x: stats.kurtosis(x))\n",
        "X_test_kaggle_df['y_kurtosis'] = pd.Series([X_test_kaggle[i][:, 1] for i in range(X_test_kaggle.shape[0])]).apply(lambda x: stats.kurtosis(x))\n",
        "X_test_kaggle_df['z_kurtosis'] = pd.Series([X_test_kaggle[i][:, 2] for i in range(X_test_kaggle.shape[0])]).apply(lambda x: stats.kurtosis(x))\n",
        "\n",
        "# energy\n",
        "X_test_kaggle_df['x_energy'] = pd.Series([X_test_kaggle[i][:, 0] for i in range(X_test_kaggle.shape[0])]).apply(lambda x: np.sum(x**2)/100)\n",
        "X_test_kaggle_df['y_energy'] = pd.Series([X_test_kaggle[i][:, 1] for i in range(X_test_kaggle.shape[0])]).apply(lambda x: np.sum(x**2)/100)\n",
        "X_test_kaggle_df['z_energy'] = pd.Series([X_test_kaggle[i][:, 2] for i in range(X_test_kaggle.shape[0])]).apply(lambda x: np.sum(x**2/100))\n",
        "\n",
        "# avg resultant\n",
        "X_test_kaggle_df['avg_result_accl'] = [i.mean() for i in ((pd.Series([X_test_kaggle[i][:, 0] for i in range(X_test_kaggle.shape[0])])**2 + pd.Series([X_test_kaggle[i][:, 1] for i in range(X_test_kaggle.shape[0])])**2 + pd.Series([X_test_kaggle[i][:, 2] for i in range(X_test_kaggle.shape[0])])**2)**0.5)]\n",
        "\n",
        "# signal magnitude area\n",
        "X_test_kaggle_df['sma'] = pd.Series([X_test_kaggle[i][:, 0] for i in range(X_test_kaggle.shape[0])]).apply(lambda x: np.sum(abs(x)/100)) + pd.Series([X_test_kaggle[i][:, 1] for i in range(X_test_kaggle.shape[0])]).apply(lambda x: np.sum(abs(x)/100)) \\\n",
        "                  + pd.Series([X_test_kaggle[i][:, 2] for i in range(X_test_kaggle.shape[0])]).apply(lambda x: np.sum(abs(x)/100))\n",
        "\n",
        "\n",
        "x_list_fft = pd.Series([X_test_kaggle[i][:, 0] for i in range(X_test_kaggle.shape[0])]).apply(lambda x: np.abs(np.fft.fft(x))[1:51])\n",
        "y_list_fft = pd.Series([X_test_kaggle[i][:, 1] for i in range(X_test_kaggle.shape[0])]).apply(lambda x: np.abs(np.fft.fft(x))[1:51])\n",
        "z_list_fft = pd.Series([X_test_kaggle[i][:, 2] for i in range(X_test_kaggle.shape[0])]).apply(lambda x: np.abs(np.fft.fft(x))[1:51])\n",
        "\n",
        "# Statistical Features on raw x, y and z in frequency domain\n",
        "# FFT mean\n",
        "X_test_kaggle_df['x_mean_fft'] = pd.Series(x_list_fft).apply(lambda x: x.mean())\n",
        "X_test_kaggle_df['y_mean_fft'] = pd.Series(y_list_fft).apply(lambda x: x.mean())\n",
        "X_test_kaggle_df['z_mean_fft'] = pd.Series(z_list_fft).apply(lambda x: x.mean())\n",
        "\n",
        "# FFT std dev\n",
        "X_test_kaggle_df['x_std_fft'] = pd.Series(x_list_fft).apply(lambda x: x.std())\n",
        "X_test_kaggle_df['y_std_fft'] = pd.Series(y_list_fft).apply(lambda x: x.std())\n",
        "X_test_kaggle_df['z_std_fft'] = pd.Series(z_list_fft).apply(lambda x: x.std())\n",
        "\n",
        "# FFT avg absolute diff\n",
        "X_test_kaggle_df['x_aad_fft'] = pd.Series(x_list_fft).apply(lambda x: np.mean(np.absolute(x - np.mean(x))))\n",
        "X_test_kaggle_df['y_aad_fft'] = pd.Series(y_list_fft).apply(lambda x: np.mean(np.absolute(x - np.mean(x))))\n",
        "X_test_kaggle_df['z_aad_fft'] = pd.Series(z_list_fft).apply(lambda x: np.mean(np.absolute(x - np.mean(x))))\n",
        "\n",
        "# FFT min\n",
        "X_test_kaggle_df['x_min_fft'] = pd.Series(x_list_fft).apply(lambda x: x.min())\n",
        "X_test_kaggle_df['y_min_fft'] = pd.Series(y_list_fft).apply(lambda x: x.min())\n",
        "X_test_kaggle_df['z_min_fft'] = pd.Series(z_list_fft).apply(lambda x: x.min())\n",
        "\n",
        "# FFT max\n",
        "X_test_kaggle_df['x_max_fft'] = pd.Series(x_list_fft).apply(lambda x: x.max())\n",
        "X_test_kaggle_df['y_max_fft'] = pd.Series(y_list_fft).apply(lambda x: x.max())\n",
        "X_test_kaggle_df['z_max_fft'] = pd.Series(z_list_fft).apply(lambda x: x.max())\n",
        "\n",
        "# FFT max-min diff\n",
        "X_test_kaggle_df['x_maxmin_diff_fft'] = X_test_kaggle_df['x_max_fft'] - X_test_kaggle_df['x_min_fft']\n",
        "X_test_kaggle_df['y_maxmin_diff_fft'] = X_test_kaggle_df['y_max_fft'] - X_test_kaggle_df['y_min_fft']\n",
        "X_test_kaggle_df['z_maxmin_diff_fft'] = X_test_kaggle_df['z_max_fft'] - X_test_kaggle_df['z_min_fft']\n",
        "\n",
        "# FFT median\n",
        "X_test_kaggle_df['x_median_fft'] = pd.Series(x_list_fft).apply(lambda x: np.median(x))\n",
        "X_test_kaggle_df['y_median_fft'] = pd.Series(y_list_fft).apply(lambda x: np.median(x))\n",
        "X_test_kaggle_df['z_median_fft'] = pd.Series(z_list_fft).apply(lambda x: np.median(x))\n",
        "\n",
        "# FFT median abs dev \n",
        "X_test_kaggle_df['x_mad_fft'] = pd.Series(x_list_fft).apply(lambda x: np.median(np.absolute(x - np.median(x))))\n",
        "X_test_kaggle_df['y_mad_fft'] = pd.Series(y_list_fft).apply(lambda x: np.median(np.absolute(x - np.median(x))))\n",
        "X_test_kaggle_df['z_mad_fft'] = pd.Series(z_list_fft).apply(lambda x: np.median(np.absolute(x - np.median(x))))\n",
        "\n",
        "# FFT Interquartile range\n",
        "X_test_kaggle_df['x_IQR_fft'] = pd.Series(x_list_fft).apply(lambda x: np.percentile(x, 75) - np.percentile(x, 25))\n",
        "X_test_kaggle_df['y_IQR_fft'] = pd.Series(y_list_fft).apply(lambda x: np.percentile(x, 75) - np.percentile(x, 25))\n",
        "X_test_kaggle_df['z_IQR_fft'] = pd.Series(z_list_fft).apply(lambda x: np.percentile(x, 75) - np.percentile(x, 25))\n",
        "\n",
        "# FFT values above mean\n",
        "X_test_kaggle_df['x_above_mean_fft'] = pd.Series(x_list_fft).apply(lambda x: np.sum(x > x.mean()))\n",
        "X_test_kaggle_df['y_above_mean_fft'] = pd.Series(y_list_fft).apply(lambda x: np.sum(x > x.mean()))\n",
        "X_test_kaggle_df['z_above_mean_fft'] = pd.Series(z_list_fft).apply(lambda x: np.sum(x > x.mean()))\n",
        "\n",
        "# FFT number of peaks\n",
        "X_test_kaggle_df['x_peak_count_fft'] = pd.Series(x_list_fft).apply(lambda x: len(find_peaks(x)[0]))\n",
        "X_test_kaggle_df['y_peak_count_fft'] = pd.Series(y_list_fft).apply(lambda x: len(find_peaks(x)[0]))\n",
        "X_test_kaggle_df['z_peak_count_fft'] = pd.Series(z_list_fft).apply(lambda x: len(find_peaks(x)[0]))\n",
        "\n",
        "# FFT skewness\n",
        "X_test_kaggle_df['x_skewness_fft'] = pd.Series(x_list_fft).apply(lambda x: stats.skew(x))\n",
        "X_test_kaggle_df['y_skewness_fft'] = pd.Series(y_list_fft).apply(lambda x: stats.skew(x))\n",
        "X_test_kaggle_df['z_skewness_fft'] = pd.Series(z_list_fft).apply(lambda x: stats.skew(x))\n",
        "\n",
        "# FFT kurtosis\n",
        "X_test_kaggle_df['x_kurtosis_fft'] = pd.Series(x_list_fft).apply(lambda x: stats.kurtosis(x))\n",
        "X_test_kaggle_df['y_kurtosis_fft'] = pd.Series(y_list_fft).apply(lambda x: stats.kurtosis(x))\n",
        "X_test_kaggle_df['z_kurtosis_fft'] = pd.Series(z_list_fft).apply(lambda x: stats.kurtosis(x))\n",
        "\n",
        "# FFT energy\n",
        "X_test_kaggle_df['x_energy_fft'] = pd.Series(x_list_fft).apply(lambda x: np.sum(x**2)/50)\n",
        "X_test_kaggle_df['y_energy_fft'] = pd.Series(y_list_fft).apply(lambda x: np.sum(x**2)/50)\n",
        "X_test_kaggle_df['z_energy_fft'] = pd.Series(z_list_fft).apply(lambda x: np.sum(x**2/50))\n",
        "\n",
        "# FFT avg resultant\n",
        "X_test_kaggle_df['avg_result_accl_fft'] = [i.mean() for i in ((pd.Series(x_list_fft)**2 + pd.Series(y_list_fft)**2 + pd.Series(z_list_fft)**2)**0.5)]\n",
        "\n",
        "# FFT Signal magnitude area\n",
        "X_test_kaggle_df['sma_fft'] = pd.Series(x_list_fft).apply(lambda x: np.sum(abs(x)/50)) + pd.Series(y_list_fft).apply(lambda x: np.sum(abs(x)/50)) \\\n",
        "                      + pd.Series(z_list_fft).apply(lambda x: np.sum(abs(x)/50))\n",
        "\n",
        "# # index of max value in time domain\n",
        "# X_test_kaggle_df['x_argmax'] = pd.Series([X_test_kaggle[i][:, 0] for i in range(X_test_kaggle.shape[0])]).apply(lambda x: np.argmax(x))\n",
        "# X_test_kaggle_df['y_argmax'] = pd.Series([X_test_kaggle[i][:, 1] for i in range(X_test_kaggle.shape[0])]).apply(lambda x: np.argmax(x))\n",
        "# X_test_kaggle_df['z_argmax'] = pd.Series([X_test_kaggle[i][:, 2] for i in range(X_test_kaggle.shape[0])]).apply(lambda x: np.argmax(x))\n",
        "\n",
        "# # index of min value in time domain\n",
        "# X_test_kaggle_df['x_argmin'] = pd.Series([X_test_kaggle[i][:, 0] for i in range(X_test_kaggle.shape[0])]).apply(lambda x: np.argmin(x))\n",
        "# X_test_kaggle_df['y_argmin'] = pd.Series([X_test_kaggle[i][:, 1] for i in range(X_test_kaggle.shape[0])]).apply(lambda x: np.argmin(x))\n",
        "# X_test_kaggle_df['z_argmin'] = pd.Series([X_test_kaggle[i][:, 2] for i in range(X_test_kaggle.shape[0])]).apply(lambda x: np.argmin(x))\n",
        "\n",
        "# # absolute difference between above indices\n",
        "# X_test_kaggle_df['x_arg_diff'] = abs(X_test_kaggle_df['x_argmax'] - X_test_kaggle_df['x_argmin'])\n",
        "# X_test_kaggle_df['y_arg_diff'] = abs(X_test_kaggle_df['y_argmax'] - X_test_kaggle_df['y_argmin'])\n",
        "# X_test_kaggle_df['z_arg_diff'] = abs(X_test_kaggle_df['z_argmax'] - X_test_kaggle_df['z_argmin'])\n",
        "\n",
        "# # index of max value in frequency domain\n",
        "# X_test_kaggle_df['x_argmax_fft'] = pd.Series(x_list_fft).apply(lambda x: np.argmax(np.abs(np.fft.fft(x))[1:51]))\n",
        "# X_test_kaggle_df['y_argmax_fft'] = pd.Series(y_list_fft).apply(lambda x: np.argmax(np.abs(np.fft.fft(x))[1:51]))\n",
        "# X_test_kaggle_df['z_argmax_fft'] = pd.Series(z_list_fft).apply(lambda x: np.argmax(np.abs(np.fft.fft(x))[1:51]))\n",
        "\n",
        "# # index of min value in frequency domain\n",
        "# X_test_kaggle_df['x_argmin_fft'] = pd.Series(x_list_fft).apply(lambda x: np.argmin(np.abs(np.fft.fft(x))[1:51]))\n",
        "# X_test_kaggle_df['y_argmin_fft'] = pd.Series(y_list_fft).apply(lambda x: np.argmin(np.abs(np.fft.fft(x))[1:51]))\n",
        "# X_test_kaggle_df['z_argmin_fft'] = pd.Series(z_list_fft).apply(lambda x: np.argmin(np.abs(np.fft.fft(x))[1:51]))\n",
        "\n",
        "# # absolute difference between above indices\n",
        "# X_test_kaggle_df['x_arg_diff_fft'] = abs(X_test_kaggle_df['x_argmax_fft'] - X_test_kaggle_df['x_argmin_fft'])\n",
        "# X_test_kaggle_df['y_arg_diff_fft'] = abs(X_test_kaggle_df['y_argmax_fft'] - X_test_kaggle_df['y_argmin_fft'])\n",
        "# X_test_kaggle_df['z_arg_diff_fft'] = abs(X_test_kaggle_df['z_argmax_fft'] - X_test_kaggle_df['z_argmin_fft'])"
      ],
      "execution_count": null,
      "outputs": []
    },
    {
      "cell_type": "code",
      "metadata": {
        "colab": {
          "base_uri": "https://localhost:8080/"
        },
        "id": "jXW7sOkmFCPS",
        "outputId": "5ed53f43-b74d-45af-f5d8-b1561bdb5a51"
      },
      "source": [
        "X_test_kaggle_df.isnull().sum().sum()"
      ],
      "execution_count": null,
      "outputs": [
        {
          "output_type": "execute_result",
          "data": {
            "text/plain": [
              "0"
            ]
          },
          "metadata": {
            "tags": []
          },
          "execution_count": 37
        }
      ]
    },
    {
      "cell_type": "code",
      "metadata": {
        "id": "3KvjXT1NFCU2"
      },
      "source": [
        "scl = StandardScaler()ву\n",
        "scl.fit(X_test_kaggle_df)\n",
        "\n",
        "X_test_kaggle_scaled = scl.transform(X_test_kaggle_df)\n",
        "\n",
        "y_pred_kaggle = model.predict(X_test_kaggle_df)"
      ],
      "execution_count": null,
      "outputs": []
    },
    {
      "cell_type": "code",
      "metadata": {
        "colab": {
          "base_uri": "https://localhost:8080/"
        },
        "id": "jKuCezoDHuZi",
        "outputId": "8c19bd5b-bb6f-4780-a350-9879af60be81"
      },
      "source": [
        "unique, counts = np.unique(y_pred_kaggle, return_counts=True)\n",
        "dict(zip(unique, counts))"
      ],
      "execution_count": null,
      "outputs": [
        {
          "output_type": "execute_result",
          "data": {
            "text/plain": [
              "{0: 1775, 1: 1075, 2: 1549, 3: 2439, 4: 2668, 5: 301, 6: 315, 7: 239, 8: 74}"
            ]
          },
          "metadata": {
            "tags": []
          },
          "execution_count": 40
        }
      ]
    },
    {
      "cell_type": "code",
      "metadata": {
        "colab": {
          "base_uri": "https://localhost:8080/"
        },
        "id": "KdXrJQS7HUCp",
        "outputId": "4e000379-1bba-406e-c964-ca11fbf22036"
      },
      "source": [
        "stats.mode(y_pred_kaggle[167 + 83 + 82:167 + 83 + 82 + 86])"
      ],
      "execution_count": null,
      "outputs": [
        {
          "output_type": "execute_result",
          "data": {
            "text/plain": [
              "ModeResult(mode=array([4]), count=array([67]))"
            ]
          },
          "metadata": {
            "tags": []
          },
          "execution_count": 162
        }
      ]
    },
    {
      "cell_type": "code",
      "metadata": {
        "id": "3M6HdNi6HUFM"
      },
      "source": [
        "y_pred_kaggle = y_pred_kaggle.reshape(1, -1)[0]"
      ],
      "execution_count": null,
      "outputs": []
    },
    {
      "cell_type": "code",
      "metadata": {
        "colab": {
          "base_uri": "https://localhost:8080/"
        },
        "id": "Eck5pl59nnG1",
        "outputId": "01946fd7-f478-4af3-eb38-786173b44893"
      },
      "source": [
        "y_pred_kaggle"
      ],
      "execution_count": null,
      "outputs": [
        {
          "output_type": "execute_result",
          "data": {
            "text/plain": [
              "array([1, 4, 1, ..., 3, 3, 3])"
            ]
          },
          "metadata": {
            "tags": []
          },
          "execution_count": 42
        }
      ]
    },
    {
      "cell_type": "code",
      "metadata": {
        "id": "NT_8E8DDHUID"
      },
      "source": [
        "preds = []\n",
        "y_pred_temp = y_pred_kaggle.copy()\n",
        "for i in range(len(sizes)):\n",
        "    preds.append(stats.mode(y_pred_temp[:sizes[i]])[0][0])\n",
        "    y_pred_temp = y_pred_temp[sizes[i]:]"
      ],
      "execution_count": null,
      "outputs": []
    },
    {
      "cell_type": "code",
      "metadata": {
        "id": "HLDHHA7zW1md"
      },
      "source": [
        "dic = {}\n",
        "for i in preds:\n",
        "  if i not in dic.keys():\n",
        "    dic[i] = 1\n",
        "  else :\n",
        "    dic[i] += 1"
      ],
      "execution_count": null,
      "outputs": []
    },
    {
      "cell_type": "code",
      "metadata": {
        "colab": {
          "base_uri": "https://localhost:8080/"
        },
        "id": "RtCtUcRAXJ9b",
        "outputId": "67371992-e35f-4323-eeb8-6812c6289baf"
      },
      "source": [
        "\n",
        "dic"
      ],
      "execution_count": null,
      "outputs": [
        {
          "output_type": "execute_result",
          "data": {
            "text/plain": [
              "{0: 19, 1: 15, 2: 21, 3: 44, 4: 24, 5: 2, 6: 9, 7: 4, 8: 8}"
            ]
          },
          "metadata": {
            "tags": []
          },
          "execution_count": 45
        }
      ]
    },
    {
      "cell_type": "code",
      "metadata": {
        "id": "LkDAKcwPXjr6"
      },
      "source": [
        "dic_order = {}\n",
        "\n",
        "for i in range(len(Target_new)):\n",
        "    x = int(Target_new[i][50:-4])\n",
        "    dic_order[x] = preds[i]\n"
      ],
      "execution_count": null,
      "outputs": []
    },
    {
      "cell_type": "code",
      "metadata": {
        "colab": {
          "base_uri": "https://localhost:8080/"
        },
        "id": "LZnxamRDbPPi",
        "outputId": "7d31bf8e-8540-428b-9347-8806dd26d043"
      },
      "source": [
        "dic_order"
      ],
      "execution_count": null,
      "outputs": [
        {
          "output_type": "execute_result",
          "data": {
            "text/plain": [
              "{0: 4,\n",
              " 1: 1,\n",
              " 2: 4,\n",
              " 3: 2,\n",
              " 4: 4,\n",
              " 5: 1,\n",
              " 6: 3,\n",
              " 7: 2,\n",
              " 8: 3,\n",
              " 9: 0,\n",
              " 10: 2,\n",
              " 11: 3,\n",
              " 12: 2,\n",
              " 13: 2,\n",
              " 14: 3,\n",
              " 15: 4,\n",
              " 16: 1,\n",
              " 17: 3,\n",
              " 18: 3,\n",
              " 19: 3,\n",
              " 20: 3,\n",
              " 21: 2,\n",
              " 22: 3,\n",
              " 23: 8,\n",
              " 24: 2,\n",
              " 25: 0,\n",
              " 26: 4,\n",
              " 27: 3,\n",
              " 28: 1,\n",
              " 29: 3,\n",
              " 30: 0,\n",
              " 31: 4,\n",
              " 32: 5,\n",
              " 33: 4,\n",
              " 34: 6,\n",
              " 35: 3,\n",
              " 36: 0,\n",
              " 37: 0,\n",
              " 38: 6,\n",
              " 39: 6,\n",
              " 40: 1,\n",
              " 41: 2,\n",
              " 42: 1,\n",
              " 43: 4,\n",
              " 44: 3,\n",
              " 45: 8,\n",
              " 46: 6,\n",
              " 47: 2,\n",
              " 48: 6,\n",
              " 49: 2,\n",
              " 50: 3,\n",
              " 51: 2,\n",
              " 52: 8,\n",
              " 53: 0,\n",
              " 54: 3,\n",
              " 55: 4,\n",
              " 56: 7,\n",
              " 57: 4,\n",
              " 58: 7,\n",
              " 59: 3,\n",
              " 60: 1,\n",
              " 61: 3,\n",
              " 62: 3,\n",
              " 63: 2,\n",
              " 64: 0,\n",
              " 65: 3,\n",
              " 66: 8,\n",
              " 67: 3,\n",
              " 68: 8,\n",
              " 69: 4,\n",
              " 70: 0,\n",
              " 71: 6,\n",
              " 72: 3,\n",
              " 73: 3,\n",
              " 74: 1,\n",
              " 75: 2,\n",
              " 76: 2,\n",
              " 77: 1,\n",
              " 78: 3,\n",
              " 79: 2,\n",
              " 80: 3,\n",
              " 81: 4,\n",
              " 82: 4,\n",
              " 83: 4,\n",
              " 84: 2,\n",
              " 85: 2,\n",
              " 86: 3,\n",
              " 87: 3,\n",
              " 88: 3,\n",
              " 89: 3,\n",
              " 90: 6,\n",
              " 91: 8,\n",
              " 92: 0,\n",
              " 93: 3,\n",
              " 94: 0,\n",
              " 95: 1,\n",
              " 96: 3,\n",
              " 97: 3,\n",
              " 98: 0,\n",
              " 99: 4,\n",
              " 100: 0,\n",
              " 101: 4,\n",
              " 102: 4,\n",
              " 103: 4,\n",
              " 104: 3,\n",
              " 105: 3,\n",
              " 106: 0,\n",
              " 107: 3,\n",
              " 108: 4,\n",
              " 109: 8,\n",
              " 110: 1,\n",
              " 111: 0,\n",
              " 112: 3,\n",
              " 113: 5,\n",
              " 114: 3,\n",
              " 115: 1,\n",
              " 116: 3,\n",
              " 117: 0,\n",
              " 118: 7,\n",
              " 119: 3,\n",
              " 120: 2,\n",
              " 121: 0,\n",
              " 122: 4,\n",
              " 123: 4,\n",
              " 124: 3,\n",
              " 125: 3,\n",
              " 126: 1,\n",
              " 127: 0,\n",
              " 128: 3,\n",
              " 129: 0,\n",
              " 130: 7,\n",
              " 131: 1,\n",
              " 132: 3,\n",
              " 133: 4,\n",
              " 134: 2,\n",
              " 135: 1,\n",
              " 136: 4,\n",
              " 137: 3,\n",
              " 138: 8,\n",
              " 139: 0,\n",
              " 140: 2,\n",
              " 141: 6,\n",
              " 142: 4,\n",
              " 143: 6,\n",
              " 144: 3,\n",
              " 145: 2}"
            ]
          },
          "metadata": {
            "tags": []
          },
          "execution_count": 47
        }
      ]
    },
    {
      "cell_type": "code",
      "metadata": {
        "id": "Ze16urmia110"
      },
      "source": [
        "preds_new = []\n",
        "\n",
        "for i in sorted(dic_order):\n",
        "  preds_new.append(dic_order[i])"
      ],
      "execution_count": null,
      "outputs": []
    },
    {
      "cell_type": "code",
      "metadata": {
        "colab": {
          "base_uri": "https://localhost:8080/"
        },
        "id": "7qeBi71XaMUI",
        "outputId": "b992b0bc-183e-4a3b-b2dd-6894965aebeb"
      },
      "source": [
        ""
      ],
      "execution_count": null,
      "outputs": [
        {
          "output_type": "execute_result",
          "data": {
            "text/plain": [
              "44"
            ]
          },
          "metadata": {
            "tags": []
          },
          "execution_count": 255
        }
      ]
    },
    {
      "cell_type": "code",
      "metadata": {
        "id": "_7msCdfJFCX2"
      },
      "source": [
        "Res = pd.DataFrame({'track_num' : np.arange(len(Data_new)), 'action' : preds_new})\n",
        "# Res.to_csv(\"first_submit.csv\", index=False)"
      ],
      "execution_count": null,
      "outputs": []
    },
    {
      "cell_type": "code",
      "metadata": {
        "id": "M2m8_S-gQ4ON"
      },
      "source": [
        "Res.to_csv(\"12_submit_1.csv\", index=False)"
      ],
      "execution_count": null,
      "outputs": []
    }
  ]
}